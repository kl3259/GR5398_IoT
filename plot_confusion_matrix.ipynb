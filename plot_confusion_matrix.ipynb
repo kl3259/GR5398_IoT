{
 "cells": [
  {
   "cell_type": "markdown",
   "metadata": {},
   "source": [
    "# Helper function: Plot confusion matrix"
   ]
  },
  {
   "cell_type": "code",
   "execution_count": null,
   "metadata": {},
   "outputs": [],
   "source": [
    "def plot_confusion_matrix(y_pred, y_true, n_classes, labels, title, save = False, filepath = \"\", filename = \"\"):\n",
    "    '''\n",
    "    Input: prediction and true test labels\n",
    "           title to specify the axis title for this confusion matrix\n",
    "           labels: list of labels corresponding to the n_classes\n",
    "           if save = True, then need to specify filepath and filename in string format\n",
    "    Output: confusion matrix plot\n",
    "    '''\n",
    "    import matplotlib\n",
    "    import pandas as pd\n",
    "    import numpy as np\n",
    "    from matplotlib import pyplot as plt\n",
    "    from matplotlib import cm\n",
    "    from sklearn.metrics import confusion_matrix\n",
    "    plt.style.use('ggplot')\n",
    "    plt.rcParams[\"font.weight\"] = \"bold\"\n",
    "    plt.rcParams[\"axes.labelweight\"] = \"bold\"\n",
    "    plt.rcParams[\"axes.titleweight\"] = \"bold\"\n",
    "    my_cmap = cm.get_cmap('Blues')\n",
    "    fig, ax = plt.subplots(1,1, figsize = (8,8), dpi = 320)\n",
    "    conf_mx = confusion_matrix(y_true, y_pred)\n",
    "    ax.matshow(conf_mx, cmap = my_cmap)\n",
    "    # Loop over data dimensions and create text annotations.\n",
    "    for i in range(n_classes):\n",
    "        for j in range(n_classes):\n",
    "            text = ax.text(j, i, conf_mx[i, j],\n",
    "                    ha = \"center\", \n",
    "                    va = \"center\", \n",
    "                    color = \"black\"\n",
    "                )\n",
    "    ax.grid(False)\n",
    "    ax.set_xticks(np.arange(n_classes), labels = labels)\n",
    "    ax.set_yticks(np.arange(n_classes), labels = labels)\n",
    "    ax.set_title(\"Confusion Matrix: \" + title)\n",
    "    plt.show()\n",
    "    if save:\n",
    "        fig.savefig(filepath + filename + \".png\", format = \"png\")\n",
    "    pass"
   ]
  }
 ],
 "metadata": {
  "language_info": {
   "name": "python"
  },
  "orig_nbformat": 4
 },
 "nbformat": 4,
 "nbformat_minor": 2
}
