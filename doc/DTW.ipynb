{
 "cells": [
  {
   "cell_type": "markdown",
   "metadata": {},
   "source": [
    "## Dynamic Time Warping\n",
    "* 1NN + bespoke distance metric"
   ]
  },
  {
   "cell_type": "code",
   "execution_count": 2,
   "metadata": {},
   "outputs": [
    {
     "data": {
      "text/plain": [
       "'/Users/kangshuoli/Documents/VScode_workspace/GR5398/doc'"
      ]
     },
     "execution_count": 2,
     "metadata": {},
     "output_type": "execute_result"
    }
   ],
   "source": [
    "import pandas as pd\n",
    "import numpy as np\n",
    "import scipy\n",
    "import matplotlib\n",
    "from matplotlib import pyplot as plt\n",
    "import os\n",
    "import re\n",
    "import time\n",
    "import sklearn\n",
    "from glob import glob\n",
    "from sklearn.neighbors import KNeighborsClassifier\n",
    "os.getcwd()"
   ]
  },
  {
   "cell_type": "markdown",
   "metadata": {},
   "source": [
    "#### Calculate the optimal distance in a recursion fashion"
   ]
  },
  {
   "cell_type": "code",
   "execution_count": 5,
   "metadata": {},
   "outputs": [],
   "source": [
    "def DTW(a, b, MTSC = True, method = \"dependent\"):\n",
    "    '''\n",
    "    Input: \n",
    "    a -> time seires m * d numpy array, \n",
    "    b -> time series m * d numpy array, \n",
    "    MTSC -> default is multivariate time series, \n",
    "    method: use dependent warping (DTWd) by default, combined both independent and dependent warping\n",
    "\n",
    "    Output:\n",
    "    optimal distance\n",
    "    '''\n",
    "    import numpy as np\n",
    "    import scipy.stats\n",
    "    if a.shape[0] != b.shape[0]:\n",
    "        raise ValueError(\"Time length are not the same!\")\n",
    "    if not MTSC:\n",
    "        raise ValueError(\"Input should be MTS!\")\n",
    "    m = a.shape[0] # number of time steps\n",
    "    M = np.zeros((m,m)) # initialize distance matrix M\n",
    "    dp = np.zeros((m,m)) # define dp table -> DTW\n",
    "    if method == \"dependent\": # calculate distance\n",
    "        for i in range(m):\n",
    "            for j in range(i, m):\n",
    "                a_vec_i = a[i,:]\n",
    "                b_vec_j = b[j,:]\n",
    "                diff_vec = a_vec_i - b_vec_j\n",
    "                M[i,j] = diff_vec.T @ diff_vec\n",
    "                M[j,i] = M[i,j]\n",
    "        # find the warping path\n",
    "        for i in range(m):\n",
    "            for j in range(m):\n",
    "                # base case\n",
    "                if i == 0 and j == 0:\n",
    "                    dp[i,j] = M[i,j]\n",
    "                    continue\n",
    "                elif i == 0 and j != 0:\n",
    "                    dp[i,j] = M[i,j] + dp[i,j-1]\n",
    "                    continue\n",
    "                elif i != 0 and j == 0:\n",
    "                    dp[i,j] = M[i,j] + dp[i-1, j]\n",
    "                    continue\n",
    "                dp[i,j] = M[i,j] + min(dp[i-1, j], dp[i,j-1], dp[i-1,j-1])\n",
    "    return dp[m-1,m-1]\n",
    "\n",
    "def NN_DTW(mts_train, mts_test, label_train, label_test):\n",
    "    '''\n",
    "    Input:\n",
    "    mts_train: traning set of multivariate time series\n",
    "    mts_test: test set of multivariate time series\n",
    "    label_train: labels for training set\n",
    "    label_test: labels for test set\n",
    "\n",
    "    Use 1NN classifier\n",
    "\n",
    "    Output:\n",
    "    label_pred: list of label predicted by the 1NN\n",
    "    '''\n",
    "    import math\n",
    "    label_pred = []\n",
    "    for i in range(mts_test.shape[0]): # for each test data\n",
    "        curr_min_distance = math.inf\n",
    "        min_distance_label = None\n",
    "        for j in range(mts_train.shape[0]): # for each training data\n",
    "            curr_distance = DTW(mts_test[i,:,:], mts_train[j,:,:])\n",
    "            if curr_distance <= curr_min_distance:\n",
    "                curr_min_distance = curr_distance\n",
    "                min_distance_label = label_train[j]\n",
    "        label_pred.append(min_distance_label)\n",
    "    return pd.Series(label_pred, index = label_test.index)"
   ]
  },
  {
   "cell_type": "code",
   "execution_count": null,
   "metadata": {},
   "outputs": [],
   "source": []
  }
 ],
 "metadata": {
  "interpreter": {
   "hash": "cf4b1ea9e44270800601995b24955b9e2e1146cee5677c8b3eb4516f39ae2322"
  },
  "kernelspec": {
   "display_name": "Python 3.9.12 ('env_torch')",
   "language": "python",
   "name": "python3"
  },
  "language_info": {
   "codemirror_mode": {
    "name": "ipython",
    "version": 3
   },
   "file_extension": ".py",
   "mimetype": "text/x-python",
   "name": "python",
   "nbconvert_exporter": "python",
   "pygments_lexer": "ipython3",
   "version": "3.9.12"
  },
  "orig_nbformat": 4
 },
 "nbformat": 4,
 "nbformat_minor": 2
}
