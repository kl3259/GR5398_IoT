{
 "cells": [
  {
   "cell_type": "markdown",
   "metadata": {},
   "source": [
    "## Dynamic Time Warping\n",
    "* 1NN + bespoke distance metric"
   ]
  },
  {
   "cell_type": "code",
   "execution_count": 2,
   "metadata": {},
   "outputs": [
    {
     "data": {
      "text/plain": [
       "'/Users/kangshuoli/Documents/VScode_workspace/GR5398/doc'"
      ]
     },
     "execution_count": 2,
     "metadata": {},
     "output_type": "execute_result"
    }
   ],
   "source": [
    "import pandas as pd\n",
    "import numpy as np\n",
    "import scipy\n",
    "import matplotlib\n",
    "from matplotlib import pyplot as plt\n",
    "import os\n",
    "import re\n",
    "import time\n",
    "import sklearn\n",
    "from glob import glob\n",
    "from sklearn.neighbors import KNeighborsClassifier\n",
    "os.getcwd()"
   ]
  },
  {
   "cell_type": "markdown",
   "metadata": {},
   "source": [
    "#### Calculate the optimal distance in a recursion fashion"
   ]
  },
  {
   "cell_type": "code",
   "execution_count": null,
   "metadata": {},
   "outputs": [],
   "source": [
    "def DTW(a, b, MTSC = True, method = \"adaptive\"):\n",
    "    '''\n",
    "    Input: \n",
    "    a -> time seires, \n",
    "    b -> time series, \n",
    "    MTSC -> default is multivariate time series, \n",
    "    method: use adaptive warping (DTWa) by default, combined both independent and dependent warping\n",
    "\n",
    "    Output:\n",
    "    optimal distance\n",
    "    '''\n",
    "    \n",
    "\n",
    "\n",
    "\n",
    "\n",
    "\n",
    "\n",
    "\n",
    "\n",
    "\n",
    "\n"
   ]
  }
 ],
 "metadata": {
  "interpreter": {
   "hash": "cf4b1ea9e44270800601995b24955b9e2e1146cee5677c8b3eb4516f39ae2322"
  },
  "kernelspec": {
   "display_name": "Python 3.9.12 ('env_torch')",
   "language": "python",
   "name": "python3"
  },
  "language_info": {
   "codemirror_mode": {
    "name": "ipython",
    "version": 3
   },
   "file_extension": ".py",
   "mimetype": "text/x-python",
   "name": "python",
   "nbconvert_exporter": "python",
   "pygments_lexer": "ipython3",
   "version": "3.9.12"
  },
  "orig_nbformat": 4
 },
 "nbformat": 4,
 "nbformat_minor": 2
}
