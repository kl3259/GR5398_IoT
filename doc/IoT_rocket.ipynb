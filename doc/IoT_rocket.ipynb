{
  "nbformat": 4,
  "nbformat_minor": 0,
  "metadata": {
    "colab": {
      "name": "IoT_rocket.ipynb",
      "provenance": [],
      "collapsed_sections": []
    },
    "kernelspec": {
      "name": "python3",
      "display_name": "Python 3"
    },
    "language_info": {
      "name": "python"
    }
  },
  "cells": [
    {
      "cell_type": "markdown",
      "source": [
        "### Setup"
      ],
      "metadata": {
        "id": "0gTdDpPk8xf_"
      }
    },
    {
      "cell_type": "code",
      "execution_count": 1,
      "metadata": {
        "colab": {
          "base_uri": "https://localhost:8080/"
        },
        "id": "myD4qwpD8AbV",
        "outputId": "151f99c4-6ba7-4ab0-e996-59f5b1f0fe3d"
      },
      "outputs": [
        {
          "output_type": "stream",
          "name": "stdout",
          "text": [
            "Exception reporting mode: Plain\n",
            "Mounted at /content/drive\n",
            "Looking in indexes: https://pypi.org/simple, https://us-python.pkg.dev/colab-wheels/public/simple/\n",
            "Collecting sktime\n",
            "  Downloading sktime-0.13.0-py3-none-any.whl (6.8 MB)\n",
            "\u001b[K     |████████████████████████████████| 6.8 MB 5.0 MB/s \n",
            "\u001b[?25hRequirement already satisfied: scipy<1.9.0 in /usr/local/lib/python3.7/dist-packages (from sktime) (1.7.3)\n",
            "Requirement already satisfied: numpy<1.23,>=1.21.0 in /usr/local/lib/python3.7/dist-packages (from sktime) (1.21.6)\n",
            "Collecting numba>=0.53\n",
            "  Downloading numba-0.55.2-cp37-cp37m-manylinux2014_x86_64.manylinux_2_17_x86_64.whl (3.3 MB)\n",
            "\u001b[K     |████████████████████████████████| 3.3 MB 43.0 MB/s \n",
            "\u001b[?25hRequirement already satisfied: pandas<1.5.0,>=1.1.0 in /usr/local/lib/python3.7/dist-packages (from sktime) (1.3.5)\n",
            "Collecting deprecated>=1.2.13\n",
            "  Downloading Deprecated-1.2.13-py2.py3-none-any.whl (9.6 kB)\n",
            "Collecting statsmodels>=0.12.1\n",
            "  Downloading statsmodels-0.13.2-cp37-cp37m-manylinux_2_17_x86_64.manylinux2014_x86_64.whl (9.8 MB)\n",
            "\u001b[K     |████████████████████████████████| 9.8 MB 39.3 MB/s \n",
            "\u001b[?25hRequirement already satisfied: scikit-learn<1.2.0,>=0.24.0 in /usr/local/lib/python3.7/dist-packages (from sktime) (1.0.2)\n",
            "Requirement already satisfied: wrapt<2,>=1.10 in /usr/local/lib/python3.7/dist-packages (from deprecated>=1.2.13->sktime) (1.14.1)\n",
            "Collecting llvmlite<0.39,>=0.38.0rc1\n",
            "  Downloading llvmlite-0.38.1-cp37-cp37m-manylinux_2_17_x86_64.manylinux2014_x86_64.whl (34.5 MB)\n",
            "\u001b[K     |████████████████████████████████| 34.5 MB 10 kB/s \n",
            "\u001b[?25hRequirement already satisfied: setuptools in /usr/local/lib/python3.7/dist-packages (from numba>=0.53->sktime) (57.4.0)\n",
            "Requirement already satisfied: pytz>=2017.3 in /usr/local/lib/python3.7/dist-packages (from pandas<1.5.0,>=1.1.0->sktime) (2022.1)\n",
            "Requirement already satisfied: python-dateutil>=2.7.3 in /usr/local/lib/python3.7/dist-packages (from pandas<1.5.0,>=1.1.0->sktime) (2.8.2)\n",
            "Requirement already satisfied: six>=1.5 in /usr/local/lib/python3.7/dist-packages (from python-dateutil>=2.7.3->pandas<1.5.0,>=1.1.0->sktime) (1.15.0)\n",
            "Requirement already satisfied: joblib>=0.11 in /usr/local/lib/python3.7/dist-packages (from scikit-learn<1.2.0,>=0.24.0->sktime) (1.1.0)\n",
            "Requirement already satisfied: threadpoolctl>=2.0.0 in /usr/local/lib/python3.7/dist-packages (from scikit-learn<1.2.0,>=0.24.0->sktime) (3.1.0)\n",
            "Requirement already satisfied: patsy>=0.5.2 in /usr/local/lib/python3.7/dist-packages (from statsmodels>=0.12.1->sktime) (0.5.2)\n",
            "Requirement already satisfied: packaging>=21.3 in /usr/local/lib/python3.7/dist-packages (from statsmodels>=0.12.1->sktime) (21.3)\n",
            "Requirement already satisfied: pyparsing!=3.0.5,>=2.0.2 in /usr/local/lib/python3.7/dist-packages (from packaging>=21.3->statsmodels>=0.12.1->sktime) (3.0.9)\n",
            "Installing collected packages: llvmlite, statsmodels, numba, deprecated, sktime\n",
            "  Attempting uninstall: llvmlite\n",
            "    Found existing installation: llvmlite 0.34.0\n",
            "    Uninstalling llvmlite-0.34.0:\n",
            "      Successfully uninstalled llvmlite-0.34.0\n",
            "  Attempting uninstall: statsmodels\n",
            "    Found existing installation: statsmodels 0.10.2\n",
            "    Uninstalling statsmodels-0.10.2:\n",
            "      Successfully uninstalled statsmodels-0.10.2\n",
            "  Attempting uninstall: numba\n",
            "    Found existing installation: numba 0.51.2\n",
            "    Uninstalling numba-0.51.2:\n",
            "      Successfully uninstalled numba-0.51.2\n",
            "Successfully installed deprecated-1.2.13 llvmlite-0.38.1 numba-0.55.2 sktime-0.13.0 statsmodels-0.13.2\n"
          ]
        }
      ],
      "source": [
        "%xmode plain\n",
        "from google.colab import drive\n",
        "drive.mount('/content/drive')\n",
        "!pip install sktime"
      ]
    },
    {
      "cell_type": "markdown",
      "source": [
        "### Read in data"
      ],
      "metadata": {
        "id": "tGO0Jahj8zmg"
      }
    },
    {
      "cell_type": "code",
      "source": [
        "import os\n",
        "import re\n",
        "import pandas as pd\n",
        "import numpy as np\n",
        "from glob import glob\n",
        "\n",
        "feature_df = pd.read_csv(\n",
        "    \"/content/drive/MyDrive/IOT Classification Challenge/feature_df_951.csv\", \n",
        "    header = 0,\n",
        "    index_col = 0\n",
        ")\n",
        "temp_label_df = pd.read_csv(\n",
        "    \"/content/drive/MyDrive/IOT Classification Challenge/label_df_951.csv\", \n",
        "    header = 0, \n",
        "    index_col = 0\n",
        ")\n",
        "label_df = pd.Series(data = temp_label_df['0'], index = temp_label_df.index)"
      ],
      "metadata": {
        "id": "WwrGMHXI8H0B"
      },
      "execution_count": 23,
      "outputs": []
    },
    {
      "cell_type": "markdown",
      "source": [
        "### Reconstruct the multivariate time series"
      ],
      "metadata": {
        "id": "KEsS1G8O-PuE"
      }
    },
    {
      "cell_type": "code",
      "source": [
        "def reshape_mtsc(feature_df, label_df):\n",
        "    mts_stack = []\n",
        "    for video in feature_df.index:\n",
        "        feature_case = np.array(feature_df.loc[video,:]).reshape((34,100)) # reshape to (34,100)\n",
        "        mts_stack.append(feature_case)\n",
        "        label_case = label_df[video]\n",
        "    return np.stack(mts_stack, axis = 0)\n",
        "\n",
        "mts_stack = reshape_mtsc(feature_df, label_df) # (951, 34, 100)"
      ],
      "metadata": {
        "id": "QCrWsgad9GaI"
      },
      "execution_count": 26,
      "outputs": []
    },
    {
      "cell_type": "markdown",
      "source": [
        "### Train test split"
      ],
      "metadata": {
        "id": "_eGEss1b-WYk"
      }
    },
    {
      "cell_type": "code",
      "source": [
        "from sklearn.model_selection import train_test_split, GridSearchCV, StratifiedKFold\n",
        "from sklearn.metrics import accuracy_score, f1_score, confusion_matrix\n",
        "from matplotlib import cm, pyplot as plt\n",
        "\n",
        "mts_train, mts_test, label_train, label_test = train_test_split(\n",
        "    mts_stack, label_df, \n",
        "    test_size = 0.2, \n",
        "    random_state = 42,\n",
        "    shuffle = True\n",
        ")"
      ],
      "metadata": {
        "id": "Mxblf6dS-YSa"
      },
      "execution_count": 27,
      "outputs": []
    },
    {
      "cell_type": "markdown",
      "source": [
        "### Random Convolutional Kernel Transform"
      ],
      "metadata": {
        "id": "1l_dIyTiBTU6"
      }
    },
    {
      "cell_type": "code",
      "source": [
        "from tqdm import tqdm\n",
        "from time import sleep\n",
        "import numpy as np\n",
        "import math\n",
        "import sys\n",
        "from numba import njit\n",
        "from sktime.classification.kernel_based import RocketClassifier # import need 2 min\n",
        "\n",
        "rocket_clf = RocketClassifier(\n",
        "    num_kernels = 10000, \n",
        "    random_state = 42, \n",
        "    n_jobs = -1\n",
        ")\n",
        "\n",
        "mts_train_np = np.asarray(mts_train)\n",
        "mts_test_np = np.asarray(mts_test)\n",
        "label_train_np = np.asarray(label_train)\n",
        "\n",
        "rocket_clf.fit(mts_train_np, label_train_np)\n",
        "label_pred = rocket_clf.predict(mts_test_np)"
      ],
      "metadata": {
        "id": "V5PnWsyjBOED"
      },
      "execution_count": 30,
      "outputs": []
    },
    {
      "cell_type": "code",
      "source": [
        "accuracy_score(y_pred = label_pred, y_true = label_test)"
      ],
      "metadata": {
        "colab": {
          "base_uri": "https://localhost:8080/"
        },
        "id": "qvWZdsK_BjEB",
        "outputId": "4b7b9d9c-d2ad-453c-9878-3798d298fba8"
      },
      "execution_count": 31,
      "outputs": [
        {
          "output_type": "execute_result",
          "data": {
            "text/plain": [
              "0.7853403141361257"
            ]
          },
          "metadata": {},
          "execution_count": 31
        }
      ]
    },
    {
      "cell_type": "code",
      "source": [
        ""
      ],
      "metadata": {
        "id": "13b51Ja3Q8-W"
      },
      "execution_count": null,
      "outputs": []
    }
  ]
}