{
 "cells": [
  {
   "cell_type": "markdown",
   "metadata": {},
   "source": [
    "# Helper function: Plot learning curve"
   ]
  },
  {
   "cell_type": "code",
   "execution_count": null,
   "metadata": {},
   "outputs": [],
   "source": [
    "def plot_learning_curve(n_directions_list, training_score_list, validation_score_list, metric_name, x_name, title, x_scale = \"linear\", save = False, filepath = \"\", filename = \"\"):\n",
    "    '''\n",
    "    Input: x-axis (e.g. PCA directions kept / n_estimators / max_depth)\n",
    "           metric_name for y-axis (e.g. misclassification error / crossentropy error / accuracy / f1 score)\n",
    "           title for this axis\n",
    "           training + validation score in list\n",
    "           default in linear scale\n",
    "           default no saving files, if save is True, then have to specify filename and file path\n",
    "    Output: inline display of the learning curve\n",
    "    '''\n",
    "    import pandas as pd\n",
    "    import numpy as np  \n",
    "    import matplotlib\n",
    "    from matplotlib import pyplot as plt\n",
    "    from matplotlib import cm\n",
    "    plt.style.use('ggplot')\n",
    "    plt.rcParams[\"font.weight\"] = \"bold\"\n",
    "    plt.rcParams[\"axes.labelweight\"] = \"bold\"\n",
    "    plt.rcParams[\"axes.titleweight\"] = \"bold\"\n",
    "    fig,ax = plt.subplots(1, 1, figsize = (8, 8), dpi = 320)\n",
    "    ax.plot(n_directions_list, training_score_list, 'o-', label = \"Train score\", linewidth = 2)\n",
    "    ax.plot(n_directions_list, validation_score_list, 'o-', label = \"Validation score\", linewidth = 2)\n",
    "    ax.legend()\n",
    "    ax.set_xscale(x_scale)\n",
    "    ax.set_title('Learning Curve: ' + title)\n",
    "    ax.set_xlabel(x_name)\n",
    "    ax.set_ylabel(metric_name)\n",
    "    plt.show()\n",
    "    if save:\n",
    "        fig.savefig(filepath + filename + \".png\", format = \"png\")\n",
    "    pass\n"
   ]
  },
  {
   "cell_type": "code",
   "execution_count": null,
   "metadata": {},
   "outputs": [],
   "source": [
    "# plot_learning_curve(\n",
    "#     n_directions_list = n_directions_list,\n",
    "#     training_score_list = train_error_list, \n",
    "#     validation_score_list = test_error_list\n",
    "# )"
   ]
  }
 ],
 "metadata": {
  "language_info": {
   "name": "python"
  },
  "orig_nbformat": 4
 },
 "nbformat": 4,
 "nbformat_minor": 2
}
