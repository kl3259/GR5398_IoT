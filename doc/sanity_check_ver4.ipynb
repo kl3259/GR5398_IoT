{
 "cells": [
  {
   "cell_type": "markdown",
   "metadata": {},
   "source": [
    "## Sanity Check\n",
    "* Find evidence that SAVE is not working\n",
    "  * Q: The difference in weight b/w relevant features and irrelevant features are diminishing when the number of total features increases?\n",
    "    * Setup experiments by using 10 relevant features\n",
    "    * Generate predictors via Donglai's method\n",
    "    * Save the accuracy df and direction matrix, record baseline accuracy\n",
    "    * Calculate the variance in each direction matrix\n",
    "    * Plot learning curve: 1. accuracy 2. variance in direction matrix w.r.t. each synthetic dataset\n",
    "* Good to see the diminishing pattern of the variance\n",
    "* Control noise level -> 5% / 10% / 20% of the average range in every interval of percentile for thresholding"
   ]
  },
  {
   "cell_type": "code",
   "execution_count": 12,
   "metadata": {},
   "outputs": [
    {
     "name": "stdout",
     "output_type": "stream",
     "text": [
      "Exception reporting mode: Plain\n"
     ]
    }
   ],
   "source": [
    "import pandas as pd\n",
    "import numpy as np\n",
    "import re\n",
    "import os\n",
    "import time\n",
    "import matplotlib.pyplot as plt\n",
    "from glob import glob\n",
    "# !pip install sliced\n",
    "import sliced\n",
    "import random\n",
    "import sklearn\n",
    "from sklearn.linear_model import LogisticRegression\n",
    "from sklearn.decomposition import PCA\n",
    "from sklearn.model_selection import GridSearchCV\n",
    "from sklearn.model_selection import train_test_split\n",
    "from sklearn.metrics import f1_score, accuracy_score\n",
    "from sliced import SlicedAverageVarianceEstimation\n",
    "from sklearn.preprocessing import StandardScaler\n",
    "from xgboost import XGBClassifier\n",
    "# from numba import njit\n",
    "from numpy.linalg import pinv\n",
    "from tqdm import tqdm\n",
    "%xmode plain"
   ]
  },
  {
   "cell_type": "code",
   "execution_count": 57,
   "metadata": {},
   "outputs": [],
   "source": [
    "def mahalanobis_transformation(feature_df, flag = \"Train\", feature_mean = np.empty((1,1)), sigma_pinv_sqrt = np.empty((1,1))):\n",
    "    # whiten the data\n",
    "    n = feature_df.shape[0]\n",
    "    p = feature_df.shape[1]\n",
    "    ones = np.ones((n, 1)) # n * 1\n",
    "    if flag == \"Train\":\n",
    "        # aviod np.mean in numba cannot use globals()\n",
    "        feature_mean = np.empty((1,p))\n",
    "        for i in range(p):\n",
    "            feature_mean[0,i] = np.mean(feature_df[:,i], axis = 0)\n",
    "        feature_centered = feature_df - np.dot(ones, feature_mean)\n",
    "        # get cov matrix # p * p\n",
    "        cov = np.dot(feature_centered.T, feature_centered) / n\n",
    "        # u, s, vh = np.linalg.svd(cov) # all real numbers\n",
    "        s, u = np.linalg.eigh(cov) # all real numbers\n",
    "        # theshold for pinv: 1e-15\n",
    "        s_pinv = np.linalg.pinv(np.diag(s))\n",
    "        s_pinv_sqrt = np.zeros(p)\n",
    "        for i, item in enumerate(np.diag(s_pinv)):\n",
    "            if item > 0:\n",
    "                s_pinv_sqrt[i] = np.sqrt(item)\n",
    "        sigma_pinv_sqrt = np.dot(np.dot(u, np.diag(s_pinv_sqrt)), u.T)\n",
    "        feature_df_whitened = np.dot(feature_centered, sigma_pinv_sqrt)\n",
    "    else:\n",
    "        if feature_mean is None or sigma_pinv_sqrt is None:\n",
    "            raise ValueError(\"Need to assign feature mean vector and Sigma!\")\n",
    "        if feature_mean is not None and sigma_pinv_sqrt is not None:\n",
    "            feature_centered = feature_df - np.dot(ones, feature_mean)\n",
    "            feature_df_whitened = np.dot(feature_centered, sigma_pinv_sqrt)\n",
    "    return feature_df_whitened, feature_mean, sigma_pinv_sqrt\n",
    "\n",
    "def get_cov_mat(feature_df):\n",
    "    n = feature_df.shape[0]\n",
    "    p = feature_df.shape[1]\n",
    "    ones = np.ones((n, 1))\n",
    "    feature_mean = np.empty((1,p))\n",
    "    for i in range(p):\n",
    "        feature_mean[0,i] = np.mean(feature_df[:,i])\n",
    "    feature_centered = feature_df - np.dot(ones, feature_mean)\n",
    "    # get cov matrix # p * p\n",
    "    cov = np.dot(feature_centered.T, feature_centered) / n\n",
    "    return cov\n",
    "\n",
    "def my_SAVE(feature_df_whitened, label_df, flag = \"Train\", n_directions = 977, verbose = False, **kwargs):\n",
    "\n",
    "    if flag == \"Train\":\n",
    "        # get slices\n",
    "        label_df.index = np.arange(0, label_df.shape[0], dtype = int)\n",
    "        slice_index_dict = {1: [], 2: [], 3: [], 4: [], 5: []}\n",
    "        n = feature_df_whitened.shape[0]\n",
    "        p = feature_df_whitened.shape[1]\n",
    "        for i in np.arange(5):\n",
    "            slice_index_dict[i + 1].extend(label_df[label_df[\"label\"] == (i + 1)].index)\n",
    "            globals()['feature_df_' + str(i + 1)] = feature_df_whitened[slice_index_dict[i + 1],:]\n",
    "            globals()[\"label_df_\" + str(i + 1)] = label_df.loc[slice_index_dict[i + 1], \"label\"]\n",
    "            # get sliced cov matrices\n",
    "            globals()['cov_' + str(i + 1)] = get_cov_mat(globals()[\"feature_df_\" + str(i + 1)])\n",
    "        # concatenate 5 cov matrices, weighted by the proportion of classes\n",
    "        globals()['weight_df'] = label_df[\"label\"].value_counts() / label_df.shape[0]\n",
    "        weighted_cov = pd.DataFrame(\n",
    "            data = np.zeros((globals()['cov_1'].shape[0], globals()['cov_1'].shape[0])), \n",
    "            columns = np.arange(p, dtype = int)\n",
    "        )\n",
    "        for i in np.arange(5):\n",
    "            if p == 2:\n",
    "                if verbose:\n",
    "                    # u, s, vh = np.linalg.svd(globals()['cov_' + str(i + 1)])\n",
    "                    u, s = np.linalg.eigh(globals()['cov_' + str(i + 1)])\n",
    "                    s = s[::-1]\n",
    "                    u = u[:, ::-1]\n",
    "                    print(f'Eigen values of COV mat: {s}')\n",
    "                    print(f'Eigen values ratio of COV mat: {s[0] / s[1]:8.4f}')\n",
    "                    print(f'(1 - Eigen values of COV mat) ratio: {(1 - s[0]) / (1 - s[1]):8.4f}')\n",
    "                    print(f'(1 - Eigen values of COV mat)^2 ratio: {((1 - s[0]) / (1 - s[1])) ** 2:8.4f}')\n",
    "                    # u, s, vh = np.linalg.svd(np.eye(cov_1.shape[0]) - globals()[\"cov_\" + str(i + 1)])\n",
    "                    s, u = np.linalg.eigh(np.eye(cov_1.shape[0]) - globals()[\"cov_\" + str(i + 1)])\n",
    "                    s = s[::-1]\n",
    "                    u = u[:, ::-1]\n",
    "                    print(f'Eigen values of (I - COV mat): {s}')\n",
    "                    print(f'Eigen values ratio of (I - COV mat) : {s[0] / s[1]:8.4f}')\n",
    "                    print(f'(1 - Eigen values of (I - COV mat)) ratio: {(1 - s[0]) / (1 - s[1]):8.4f}')\n",
    "                    print(f'(1 - Eigen values of (I - COV mat))^2 ratio: {((1 - s[0]) / (1 - s[1])) ** 2:8.4f}')\n",
    "\n",
    "            if verbose:\n",
    "                # u, s, vh = np.linalg.svd(np.eye(cov_1.shape[0]) - globals()[\"cov_\" + str(i + 1)])\n",
    "                s, u = np.linalg.eigh(np.eye(cov_1.shape[0]) - globals()[\"cov_\" + str(i + 1)])\n",
    "                s = s[::-1]\n",
    "                u = u[:, ::-1]\n",
    "                print(f'(I - V) eigenvalues: {s}')\n",
    "                # u, s, vh = np.linalg.svd((np.eye(cov_1.shape[0]) - globals()[\"cov_\" + str(i + 1)]) @ (np.eye(cov_1.shape[0]) - globals()[\"cov_\" + str(i + 1)]).T)\n",
    "                s, u = np.linalg.eigh((np.eye(cov_1.shape[0]) - globals()[\"cov_\" + str(i + 1)]) @ (np.eye(cov_1.shape[0]) - globals()[\"cov_\" + str(i + 1)]).T)\n",
    "                s = s[::-1]\n",
    "                u = u[:, ::-1]\n",
    "                print(f'(I - V)^2 eigenvalues: {s}')\n",
    "            temp = np.eye(cov_1.shape[0]) - globals()[\"cov_\" + str(i + 1)]\n",
    "            weighted_cov += weight_df.loc[i + 1] * temp @ temp.T\n",
    "        # u, s, vh = np.linalg.svd(weighted_cov)\n",
    "        s, u = np.linalg.eigh(weighted_cov)\n",
    "        s = s[::-1]\n",
    "        u = u[:, ::-1]\n",
    "        b = u[:,:n_directions]\n",
    "        # transformed to vectors in th original scale\n",
    "        h = sigma_pinv_sqrt @ b\n",
    "        globals()['directions'] = normalize(h, axis = 0)\n",
    "        feature_df_reduced = feature_df_whitened @ globals()['directions']\n",
    "        print()\n",
    "        print(f'Shape of feature df after post processing: {feature_df_reduced.shape}')  \n",
    "    elif flag == \"Test\":\n",
    "        feature_df_reduced = feature_df_whitened @ globals()['directions']\n",
    "    return feature_df_reduced, feature_df_whitened, feature_mean, sigma_pinv_sqrt\n",
    "\n",
    "def sliced_SAVE(feature_df_whitened, label_df, flag = \"Train\", n_directions = 977, **kwargs):\n",
    "    if flag == \"Train\":\n",
    "        globals()['save'] = SlicedAverageVarianceEstimation(n_directions = n_directions, n_slices = 5)\n",
    "        globals()['save'].fit(feature_df_whitened, label_df)\n",
    "        globals()['directions'] = globals()['save'].directions_\n",
    "        feature_df_reduced = globals()['save'].transform(feature_df_whitened)\n",
    "    else:\n",
    "        feature_df_reduced = globals()['save'].transform(feature_df_whitened)\n",
    "    return feature_df_reduced, feature_df_whitened, feature_mean, sigma_pinv_sqrt\n",
    "\n",
    "def my_lr(feature_df_train, feature_df_test, label_df_train, label_df_test):\n",
    "    lr_params_grid = {\n",
    "        'C': [0, 0.1, 0.5, 1, 10, 100], \n",
    "        'tol': [1e-4], \n",
    "        'penalty': ['l2'],  \n",
    "        'random_state': [42], \n",
    "        'max_iter': [2000], \n",
    "        'verbose': [0], \n",
    "        'solver': ['newton-cg'], \n",
    "        'n_jobs': [6]\n",
    "    }\n",
    "\n",
    "    gs_lr = GridSearchCV(\n",
    "        estimator = LogisticRegression(), \n",
    "        param_grid = lr_params_grid, \n",
    "        cv = 5, \n",
    "        scoring = 'accuracy', \n",
    "        verbose = 0, \n",
    "        n_jobs = -1\n",
    "    )\n",
    "    gs_lr.fit(feature_df_train, np.array(label_df_train).ravel())\n",
    "    best_lr = gs_lr.best_estimator_\n",
    "    lr_pred = best_lr.predict(feature_df_test)\n",
    "    lr_f1 = f1_score(y_true = label_df_test, y_pred = lr_pred, average = 'macro')\n",
    "    lr_accu = accuracy_score(y_true = label_df_test, y_pred = lr_pred)\n",
    "    print('Best params: ')\n",
    "    print(gs_lr.best_params_)\n",
    "    print(f'Accuracy: {lr_accu:8.4f}\\n')\n",
    "    print('-------------------------------------------------------------------')\n",
    "    return lr_f1, lr_accu\n",
    "\n",
    "def my_XGB(feature_df_train, feature_df_test, label_df_train, label_df_test):\n",
    "    xgb_params_grid = {\n",
    "        'tree_method': ['gpu_hist'], \n",
    "        'n_estimators': [50, 100, 200], \n",
    "        'max_depth': [3, 4, 5, 6], \n",
    "        'n_jobs': [-1], \n",
    "        'random_state': [42], \n",
    "        'gpu_id': [0], \n",
    "        'predictor': [\"gpu_predictor\"]\n",
    "    }\n",
    "    gs = GridSearchCV(\n",
    "        estimator = XGBClassifier(), \n",
    "        param_grid = xgb_params_grid, \n",
    "        cv = 5, \n",
    "        scoring = 'accuracy', \n",
    "        verbose = 0, \n",
    "        n_jobs = -1\n",
    "    )\n",
    "    gs.fit(feature_df_train, np.array(label_df_train).ravel())\n",
    "    best_clf = gs.best_estimator_\n",
    "    pred = best_clf.predict(feature_df_test)\n",
    "    f1 = f1_score(y_true = label_df_test, y_pred = pred, average = 'macro')\n",
    "    accu = accuracy_score(y_true = label_df_test, y_pred = pred)\n",
    "    print('\\nBest params: ')\n",
    "    print(gs.best_params_)\n",
    "    print(f'Accuracy: {accu:8.4f}\\n')\n",
    "    print('----------------------------------------------------------------------------------------------------')\n",
    "    return f1, accu\n",
    "\n",
    "\n",
    "def generate_synthetic_data(core_dirs = 3, redundant_dirs = 7, size = 500, test_size = 0.2, noise_level = 0.1, **kwargs):\n",
    "    import pandas as pd\n",
    "    import numpy as np\n",
    "    import random\n",
    "    from sklearn.model_selection import train_test_split\n",
    "    total_features = core_dirs + redundant_dirs\n",
    "    max_power = 4\n",
    "\n",
    "    def method1(total_features, core_dirs, max_power, noise_level):\n",
    "        x = np.random.randn(size, total_features)\n",
    "        fx = 0\n",
    "        for i in range(core_dirs + 1):\n",
    "            fx = x[:,i] ** max(max_power + 1 - i, 1)\n",
    "        average_interval_range = (np.max(fx) - np.min(fx)) / 5.0\n",
    "        y_noise = fx + np.random.normal(loc = 0, scale = noise_level * average_interval_range, size = size) # noise std = noise_level * average_interval_range\n",
    "        # thresholding by quantile w/o noise\n",
    "        y_discrete = pd.cut(\n",
    "            y_noise, \n",
    "            bins = [np.min(y_noise) - 1, np.quantile(fx,0.2), np.quantile(fx,0.4), np.quantile(fx,0.6), np.quantile(fx,0.8), np.max(y_noise) + 1], \n",
    "            labels = np.arange(5) + 1\n",
    "        )\n",
    "        assert np.sum(y_discrete.isna()) == 0\n",
    "        return x, y_discrete, noise_level\n",
    "\n",
    "    x, y_discrete, _ = method1(total_features, core_dirs, max_power, noise_level)\n",
    "    feature_train, feature_test, label_train, label_test = train_test_split(\n",
    "        x, y_discrete, \n",
    "        test_size = test_size, \n",
    "        shuffle = True, \n",
    "        random_state = 42\n",
    "    )\n",
    "    return feature_train, feature_test, label_train, label_test\n",
    "\n",
    "# def train_learning_curve(synthetic_feature_df_train, synthetic_label_df_train, synthetic_feature_df_test, synthetic_label_df_test, method = my_SAVE, clf = my_lr):\n",
    "#     n_directions_list = list(np.arange(1, synthetic_feature_df_train.shape[1] + 1, dtype = int))\n",
    "#     f1_list = []\n",
    "#     accu_list = []\n",
    "#     global feature_mean\n",
    "#     global sigma_pinv_sqrt\n",
    "#     for n_direction in tqdm(n_directions_list):\n",
    "#         # synthetic_label_df_train = np.asarray(synthetic_label_df_train)\n",
    "#         # synthetic_label_df_test = np.asarray(synthetic_label_df_test)\n",
    "#         globals()['feature_df_reduced_' + str(n_direction) + \"_train\"], synthetic_feature_df_train_whitened, feature_mean, sigma_pinv_sqrt = method(\n",
    "#             synthetic_feature_df_train, \n",
    "#             synthetic_label_df_train, \n",
    "#             flag = \"Train\", \n",
    "#             n_directions = n_direction\n",
    "#         )\n",
    "#         globals()['feature_df_reduced_' + str(n_direction) + \"_test\"], synthetic_feature_df_test_whitened, _, _ = method(\n",
    "#             synthetic_feature_df_test, \n",
    "#             synthetic_label_df_test, \n",
    "#             flag = \"Test\", \n",
    "#             n_directions = n_direction, \n",
    "#             feature_mean = feature_mean, \n",
    "#             sigma_pinv_sqrt = sigma_pinv_sqrt\n",
    "#         )\n",
    "#         curr_test_f1, curr_test_accu = clf(\n",
    "#             feature_df_train = globals()['feature_df_reduced_' + str(n_direction) + \"_train\"], \n",
    "#             feature_df_test = globals()['feature_df_reduced_' + str(n_direction) + \"_test\"], \n",
    "#             label_df_train = synthetic_label_df_train, \n",
    "#             label_df_test = synthetic_label_df_test\n",
    "#         )\n",
    "#         f1_list.append(curr_test_f1)\n",
    "#         accu_list.append(curr_test_accu)\n",
    "\n",
    "#     # train w/ original features -> syncthetic_feature_df -> whitened\n",
    "#     baseline_test_f1, baseline_test_accu = my_lr(\n",
    "#         feature_df_train = synthetic_feature_df_train_whitened, \n",
    "#         feature_df_test = synthetic_feature_df_test_whitened, \n",
    "#         label_df_train = synthetic_label_df_train, \n",
    "#         label_df_test = synthetic_label_df_test\n",
    "#     )\n",
    "#     return f1_list, accu_list, baseline_test_f1, baseline_test_accu, n_directions_list\n",
    "\n",
    "def train_one_dataset(synthetic_feature_df_train, synthetic_label_df_train, synthetic_feature_df_test, synthetic_label_df_test, method = sliced_SAVE, clf = my_lr):\n",
    "    global feature_mean\n",
    "    global sigma_pinv_sqrt\n",
    "    assert method == sliced_SAVE\n",
    "\n",
    "    feautre_reduced_train, _, feature_mean, sigma_pinv_sqrt = method(\n",
    "        synthetic_feature_df_train, \n",
    "        synthetic_label_df_train, \n",
    "        flag = \"Train\", \n",
    "        n_directions = 'auto'\n",
    "    )\n",
    "    feature_redued_test, _, _, _ = method(\n",
    "        synthetic_feature_df_test, \n",
    "        synthetic_label_df_test, \n",
    "        flag = \"Test\", \n",
    "        n_directions = 'auto', \n",
    "        feature_mean = feature_mean, \n",
    "        sigma_pinv_sqrt = sigma_pinv_sqrt\n",
    "    )\n",
    "    curr_test_f1, curr_test_accu = clf(\n",
    "        feature_df_train = feautre_reduced_train, \n",
    "        feature_df_test = feature_redued_test, \n",
    "        label_df_train = synthetic_label_df_train, \n",
    "        label_df_test = synthetic_label_df_test\n",
    "    )\n",
    "    # train w/ original features -> syncthetic_feature_df -> whitened\n",
    "    baseline_test_f1, baseline_test_accu = my_lr(\n",
    "        feature_df_train = synthetic_feature_df_train, \n",
    "        feature_df_test = synthetic_feature_df_test, \n",
    "        label_df_train = synthetic_label_df_train, \n",
    "        label_df_test = synthetic_label_df_test\n",
    "    )\n",
    "    return curr_test_f1, curr_test_accu, baseline_test_f1, baseline_test_accu, globals()['directions']\n",
    "\n",
    "\n",
    "\n",
    "def train_loop(core_dirs, redundant_dirs, size = 500, test_size = 0.2, noise_level = 0.1, n_iteration = 4, save = False, suffix = \"\", method = sliced_SAVE):\n",
    "    if save:\n",
    "        if suffix == \"\":\n",
    "            raise ValueError(\"No filename suffix assigned!\")\n",
    "    total_features = core_dirs + redundant_dirs\n",
    "    var_directions_list = []\n",
    "    directions_kept_list = []\n",
    "    for i in tqdm(np.arange(n_iteration)):\n",
    "        f1_list, accu_list = [], []\n",
    "        synthetic_feature_df_train, synthetic_feature_df_test, synthetic_label_df_train, synthetic_label_df_test = generate_synthetic_data(\n",
    "            core_dirs = core_dirs, \n",
    "            redundant_dirs = redundant_dirs, \n",
    "            size = size, \n",
    "            test_size = test_size, \n",
    "            noise_level = noise_level\n",
    "        )\n",
    "        if synthetic_feature_df_train.shape[0] < synthetic_feature_df_train.shape[1]:\n",
    "            pca = PCA()\n",
    "            synthetic_feature_df_train = pca.fit_transform(synthetic_feature_df_train)\n",
    "            synthetic_feature_df_test = pca.transform(synthetic_feature_df_test)\n",
    "        global feature_mean, sigma_pinv_sqrt\n",
    "        \n",
    "        feature_train_whitened_std, feature_mean, sigma_pinv_sqrt = mahalanobis_transformation(synthetic_feature_df_train, flag = \"Train\") # whitening\n",
    "        feature_test_whitened_std, _, _ = mahalanobis_transformation(synthetic_feature_df_test, flag = \"Test\", feature_mean = feature_mean, sigma_pinv_sqrt = sigma_pinv_sqrt) # whitening\n",
    "        std = StandardScaler()\n",
    "        feature_train_std = std.fit_transform(feature_train_whitened_std) # standardizzation\n",
    "        feature_test_std = std.transform(feature_test_whitened_std) # standardizzation\n",
    "        f1, accu, baseline_f1, baseline_accu, directions = train_one_dataset(\n",
    "            feature_train_std, \n",
    "            synthetic_label_df_train, \n",
    "            feature_test_std, \n",
    "            synthetic_label_df_test, \n",
    "            method = method, \n",
    "            clf = my_lr\n",
    "        )\n",
    "        # calculate columnwise variance \n",
    "        var_directions = np.mean(np.var(directions, axis = 1))\n",
    "        directions_kept = directions.shape[1]\n",
    "        var_directions_list.append(var_directions)\n",
    "        directions_kept_list.append(directions_kept)\n",
    "\n",
    "    return core_dirs, redundant_dirs, np.mean(var_directions_list), np.mean(directions_kept_list)\n"
   ]
  },
  {
   "cell_type": "code",
   "execution_count": 81,
   "metadata": {},
   "outputs": [],
   "source": [
    "feature_train, feature_test, label_train, label_test = generate_synthetic_data(core_dirs = 3, redundant_dirs = 7, size = 500, test_size = 0.2, noise_level = 0.1)"
   ]
  },
  {
   "cell_type": "code",
   "execution_count": 82,
   "metadata": {},
   "outputs": [
    {
     "data": {
      "text/plain": [
       "1    87\n",
       "2    59\n",
       "3    82\n",
       "4    92\n",
       "5    80\n",
       "dtype: int64"
      ]
     },
     "execution_count": 82,
     "metadata": {},
     "output_type": "execute_result"
    }
   ],
   "source": [
    "label_train.value_counts()"
   ]
  },
  {
   "cell_type": "markdown",
   "metadata": {},
   "source": [
    "## Simulation"
   ]
  },
  {
   "cell_type": "code",
   "execution_count": 75,
   "metadata": {},
   "outputs": [
    {
     "name": "stderr",
     "output_type": "stream",
     "text": [
      "  0%|          | 0/20 [00:00<?, ?it/s]"
     ]
    },
    {
     "name": "stdout",
     "output_type": "stream",
     "text": [
      "Best params: \n",
      "{'C': 0.1, 'max_iter': 2000, 'n_jobs': 6, 'penalty': 'l2', 'random_state': 42, 'solver': 'newton-cg', 'tol': 0.0001, 'verbose': 0}\n",
      "Accuracy:   0.4300\n",
      "\n",
      "-------------------------------------------------------------------\n"
     ]
    },
    {
     "name": "stderr",
     "output_type": "stream",
     "text": []
    },
    {
     "name": "stdout",
     "output_type": "stream",
     "text": [
      "Best params: \n",
      "{'C': 0.1, 'max_iter': 2000, 'n_jobs': 6, 'penalty': 'l2', 'random_state': 42, 'solver': 'newton-cg', 'tol': 0.0001, 'verbose': 0}\n",
      "Accuracy:   0.2500\n",
      "\n",
      "-------------------------------------------------------------------\n",
      "Best params: \n",
      "{'C': 0.1, 'max_iter': 2000, 'n_jobs': 6, 'penalty': 'l2', 'random_state': 42, 'solver': 'newton-cg', 'tol': 0.0001, 'verbose': 0}\n",
      "Accuracy:   0.3900\n",
      "\n",
      "-------------------------------------------------------------------\n"
     ]
    },
    {
     "name": "stderr",
     "output_type": "stream",
     "text": []
    },
    {
     "name": "stdout",
     "output_type": "stream",
     "text": [
      "Best params: \n",
      "{'C': 0.1, 'max_iter': 2000, 'n_jobs': 6, 'penalty': 'l2', 'random_state': 42, 'solver': 'newton-cg', 'tol': 0.0001, 'verbose': 0}\n",
      "Accuracy:   0.3800\n",
      "\n",
      "-------------------------------------------------------------------\n",
      "Best params: \n",
      "{'C': 0.5, 'max_iter': 2000, 'n_jobs': 6, 'penalty': 'l2', 'random_state': 42, 'solver': 'newton-cg', 'tol': 0.0001, 'verbose': 0}\n",
      "Accuracy:   0.3500\n",
      "\n",
      "-------------------------------------------------------------------\n"
     ]
    },
    {
     "name": "stderr",
     "output_type": "stream",
     "text": []
    },
    {
     "name": "stdout",
     "output_type": "stream",
     "text": [
      "Best params: \n",
      "{'C': 0.1, 'max_iter': 2000, 'n_jobs': 6, 'penalty': 'l2', 'random_state': 42, 'solver': 'newton-cg', 'tol': 0.0001, 'verbose': 0}\n",
      "Accuracy:   0.3700\n",
      "\n",
      "-------------------------------------------------------------------\n",
      "Best params: \n",
      "{'C': 0.5, 'max_iter': 2000, 'n_jobs': 6, 'penalty': 'l2', 'random_state': 42, 'solver': 'newton-cg', 'tol': 0.0001, 'verbose': 0}\n",
      "Accuracy:   0.4500\n",
      "\n",
      "-------------------------------------------------------------------\n"
     ]
    },
    {
     "name": "stderr",
     "output_type": "stream",
     "text": [
      "100%|██████████| 4/4 [00:04<00:00,  1.20s/it]\n",
      "  5%|▌         | 1/20 [00:04<01:31,  4.80s/it]"
     ]
    },
    {
     "name": "stdout",
     "output_type": "stream",
     "text": [
      "Best params: \n",
      "{'C': 0.1, 'max_iter': 2000, 'n_jobs': 6, 'penalty': 'l2', 'random_state': 42, 'solver': 'newton-cg', 'tol': 0.0001, 'verbose': 0}\n",
      "Accuracy:   0.4500\n",
      "\n",
      "-------------------------------------------------------------------\n"
     ]
    },
    {
     "name": "stderr",
     "output_type": "stream",
     "text": []
    },
    {
     "name": "stdout",
     "output_type": "stream",
     "text": [
      "Best params: \n",
      "{'C': 100, 'max_iter': 2000, 'n_jobs': 6, 'penalty': 'l2', 'random_state': 42, 'solver': 'newton-cg', 'tol': 0.0001, 'verbose': 0}\n",
      "Accuracy:   0.3600\n",
      "\n",
      "-------------------------------------------------------------------\n"
     ]
    },
    {
     "name": "stderr",
     "output_type": "stream",
     "text": []
    },
    {
     "name": "stdout",
     "output_type": "stream",
     "text": [
      "Best params: \n",
      "{'C': 0.1, 'max_iter': 2000, 'n_jobs': 6, 'penalty': 'l2', 'random_state': 42, 'solver': 'newton-cg', 'tol': 0.0001, 'verbose': 0}\n",
      "Accuracy:   0.2800\n",
      "\n",
      "-------------------------------------------------------------------\n",
      "Best params: \n",
      "{'C': 1, 'max_iter': 2000, 'n_jobs': 6, 'penalty': 'l2', 'random_state': 42, 'solver': 'newton-cg', 'tol': 0.0001, 'verbose': 0}\n",
      "Accuracy:   0.3400\n",
      "\n",
      "-------------------------------------------------------------------\n"
     ]
    },
    {
     "name": "stderr",
     "output_type": "stream",
     "text": []
    },
    {
     "name": "stdout",
     "output_type": "stream",
     "text": [
      "Best params: \n",
      "{'C': 0.1, 'max_iter': 2000, 'n_jobs': 6, 'penalty': 'l2', 'random_state': 42, 'solver': 'newton-cg', 'tol': 0.0001, 'verbose': 0}\n",
      "Accuracy:   0.2300\n",
      "\n",
      "-------------------------------------------------------------------\n",
      "Best params: \n",
      "{'C': 0.5, 'max_iter': 2000, 'n_jobs': 6, 'penalty': 'l2', 'random_state': 42, 'solver': 'newton-cg', 'tol': 0.0001, 'verbose': 0}\n",
      "Accuracy:   0.3600\n",
      "\n",
      "-------------------------------------------------------------------\n"
     ]
    },
    {
     "name": "stderr",
     "output_type": "stream",
     "text": []
    },
    {
     "name": "stdout",
     "output_type": "stream",
     "text": [
      "Best params: \n",
      "{'C': 1, 'max_iter': 2000, 'n_jobs': 6, 'penalty': 'l2', 'random_state': 42, 'solver': 'newton-cg', 'tol': 0.0001, 'verbose': 0}\n",
      "Accuracy:   0.3500\n",
      "\n",
      "-------------------------------------------------------------------\n",
      "Best params: \n",
      "{'C': 0.1, 'max_iter': 2000, 'n_jobs': 6, 'penalty': 'l2', 'random_state': 42, 'solver': 'newton-cg', 'tol': 0.0001, 'verbose': 0}\n",
      "Accuracy:   0.4100\n",
      "\n",
      "-------------------------------------------------------------------\n"
     ]
    },
    {
     "name": "stderr",
     "output_type": "stream",
     "text": [
      "100%|██████████| 4/4 [00:04<00:00,  1.24s/it]\n",
      " 10%|█         | 2/20 [00:09<01:28,  4.90s/it]"
     ]
    },
    {
     "name": "stdout",
     "output_type": "stream",
     "text": [
      "Best params: \n",
      "{'C': 0.1, 'max_iter': 2000, 'n_jobs': 6, 'penalty': 'l2', 'random_state': 42, 'solver': 'newton-cg', 'tol': 0.0001, 'verbose': 0}\n",
      "Accuracy:   0.3800\n",
      "\n",
      "-------------------------------------------------------------------\n"
     ]
    },
    {
     "name": "stderr",
     "output_type": "stream",
     "text": []
    },
    {
     "name": "stdout",
     "output_type": "stream",
     "text": [
      "Best params: \n",
      "{'C': 0.1, 'max_iter': 2000, 'n_jobs': 6, 'penalty': 'l2', 'random_state': 42, 'solver': 'newton-cg', 'tol': 0.0001, 'verbose': 0}\n",
      "Accuracy:   0.3900\n",
      "\n",
      "-------------------------------------------------------------------\n"
     ]
    },
    {
     "name": "stderr",
     "output_type": "stream",
     "text": []
    },
    {
     "name": "stdout",
     "output_type": "stream",
     "text": [
      "Best params: \n",
      "{'C': 0.5, 'max_iter': 2000, 'n_jobs': 6, 'penalty': 'l2', 'random_state': 42, 'solver': 'newton-cg', 'tol': 0.0001, 'verbose': 0}\n",
      "Accuracy:   0.3400\n",
      "\n",
      "-------------------------------------------------------------------\n",
      "Best params: \n",
      "{'C': 0.5, 'max_iter': 2000, 'n_jobs': 6, 'penalty': 'l2', 'random_state': 42, 'solver': 'newton-cg', 'tol': 0.0001, 'verbose': 0}\n",
      "Accuracy:   0.3500\n",
      "\n",
      "-------------------------------------------------------------------\n"
     ]
    },
    {
     "name": "stderr",
     "output_type": "stream",
     "text": []
    },
    {
     "name": "stdout",
     "output_type": "stream",
     "text": [
      "Best params: \n",
      "{'C': 0.5, 'max_iter': 2000, 'n_jobs': 6, 'penalty': 'l2', 'random_state': 42, 'solver': 'newton-cg', 'tol': 0.0001, 'verbose': 0}\n",
      "Accuracy:   0.3000\n",
      "\n",
      "-------------------------------------------------------------------\n",
      "Best params: \n",
      "{'C': 10, 'max_iter': 2000, 'n_jobs': 6, 'penalty': 'l2', 'random_state': 42, 'solver': 'newton-cg', 'tol': 0.0001, 'verbose': 0}\n",
      "Accuracy:   0.3500\n",
      "\n",
      "-------------------------------------------------------------------\n"
     ]
    },
    {
     "name": "stderr",
     "output_type": "stream",
     "text": []
    },
    {
     "name": "stdout",
     "output_type": "stream",
     "text": [
      "Best params: \n",
      "{'C': 0.1, 'max_iter': 2000, 'n_jobs': 6, 'penalty': 'l2', 'random_state': 42, 'solver': 'newton-cg', 'tol': 0.0001, 'verbose': 0}\n",
      "Accuracy:   0.3300\n",
      "\n",
      "-------------------------------------------------------------------\n",
      "Best params: \n",
      "{'C': 0.1, 'max_iter': 2000, 'n_jobs': 6, 'penalty': 'l2', 'random_state': 42, 'solver': 'newton-cg', 'tol': 0.0001, 'verbose': 0}\n",
      "Accuracy:   0.3300\n",
      "\n",
      "-------------------------------------------------------------------\n"
     ]
    },
    {
     "name": "stderr",
     "output_type": "stream",
     "text": [
      "100%|██████████| 4/4 [00:05<00:00,  1.26s/it]\n",
      " 15%|█▌        | 3/20 [00:14<01:24,  4.96s/it]"
     ]
    },
    {
     "name": "stdout",
     "output_type": "stream",
     "text": [
      "Best params: \n",
      "{'C': 0.5, 'max_iter': 2000, 'n_jobs': 6, 'penalty': 'l2', 'random_state': 42, 'solver': 'newton-cg', 'tol': 0.0001, 'verbose': 0}\n",
      "Accuracy:   0.4300\n",
      "\n",
      "-------------------------------------------------------------------\n"
     ]
    },
    {
     "name": "stderr",
     "output_type": "stream",
     "text": []
    },
    {
     "name": "stdout",
     "output_type": "stream",
     "text": [
      "Best params: \n",
      "{'C': 0.1, 'max_iter': 2000, 'n_jobs': 6, 'penalty': 'l2', 'random_state': 42, 'solver': 'newton-cg', 'tol': 0.0001, 'verbose': 0}\n",
      "Accuracy:   0.3100\n",
      "\n",
      "-------------------------------------------------------------------\n"
     ]
    },
    {
     "name": "stderr",
     "output_type": "stream",
     "text": []
    },
    {
     "name": "stdout",
     "output_type": "stream",
     "text": [
      "Best params: \n",
      "{'C': 0.1, 'max_iter': 2000, 'n_jobs': 6, 'penalty': 'l2', 'random_state': 42, 'solver': 'newton-cg', 'tol': 0.0001, 'verbose': 0}\n",
      "Accuracy:   0.4600\n",
      "\n",
      "-------------------------------------------------------------------\n",
      "Best params: \n",
      "{'C': 0.1, 'max_iter': 2000, 'n_jobs': 6, 'penalty': 'l2', 'random_state': 42, 'solver': 'newton-cg', 'tol': 0.0001, 'verbose': 0}\n",
      "Accuracy:   0.3000\n",
      "\n",
      "-------------------------------------------------------------------\n"
     ]
    },
    {
     "name": "stderr",
     "output_type": "stream",
     "text": []
    },
    {
     "name": "stdout",
     "output_type": "stream",
     "text": [
      "Best params: \n",
      "{'C': 0.1, 'max_iter': 2000, 'n_jobs': 6, 'penalty': 'l2', 'random_state': 42, 'solver': 'newton-cg', 'tol': 0.0001, 'verbose': 0}\n",
      "Accuracy:   0.4600\n",
      "\n",
      "-------------------------------------------------------------------\n",
      "Best params: \n",
      "{'C': 0.5, 'max_iter': 2000, 'n_jobs': 6, 'penalty': 'l2', 'random_state': 42, 'solver': 'newton-cg', 'tol': 0.0001, 'verbose': 0}\n",
      "Accuracy:   0.6400\n",
      "\n",
      "-------------------------------------------------------------------\n"
     ]
    },
    {
     "name": "stderr",
     "output_type": "stream",
     "text": []
    },
    {
     "name": "stdout",
     "output_type": "stream",
     "text": [
      "Best params: \n",
      "{'C': 10, 'max_iter': 2000, 'n_jobs': 6, 'penalty': 'l2', 'random_state': 42, 'solver': 'newton-cg', 'tol': 0.0001, 'verbose': 0}\n",
      "Accuracy:   0.6100\n",
      "\n",
      "-------------------------------------------------------------------\n",
      "Best params: \n",
      "{'C': 0.5, 'max_iter': 2000, 'n_jobs': 6, 'penalty': 'l2', 'random_state': 42, 'solver': 'newton-cg', 'tol': 0.0001, 'verbose': 0}\n",
      "Accuracy:   0.3100\n",
      "\n",
      "-------------------------------------------------------------------\n"
     ]
    },
    {
     "name": "stderr",
     "output_type": "stream",
     "text": [
      "100%|██████████| 4/4 [00:04<00:00,  1.23s/it]\n",
      " 20%|██        | 4/20 [00:19<01:19,  4.94s/it]"
     ]
    },
    {
     "name": "stdout",
     "output_type": "stream",
     "text": [
      "Best params: \n",
      "{'C': 0.1, 'max_iter': 2000, 'n_jobs': 6, 'penalty': 'l2', 'random_state': 42, 'solver': 'newton-cg', 'tol': 0.0001, 'verbose': 0}\n",
      "Accuracy:   0.4800\n",
      "\n",
      "-------------------------------------------------------------------\n"
     ]
    },
    {
     "name": "stderr",
     "output_type": "stream",
     "text": []
    },
    {
     "name": "stdout",
     "output_type": "stream",
     "text": [
      "Best params: \n",
      "{'C': 0.5, 'max_iter': 2000, 'n_jobs': 6, 'penalty': 'l2', 'random_state': 42, 'solver': 'newton-cg', 'tol': 0.0001, 'verbose': 0}\n",
      "Accuracy:   0.4800\n",
      "\n",
      "-------------------------------------------------------------------\n"
     ]
    },
    {
     "name": "stderr",
     "output_type": "stream",
     "text": []
    },
    {
     "name": "stdout",
     "output_type": "stream",
     "text": [
      "Best params: \n",
      "{'C': 1, 'max_iter': 2000, 'n_jobs': 6, 'penalty': 'l2', 'random_state': 42, 'solver': 'newton-cg', 'tol': 0.0001, 'verbose': 0}\n",
      "Accuracy:   0.5900\n",
      "\n",
      "-------------------------------------------------------------------\n",
      "Best params: \n",
      "{'C': 1, 'max_iter': 2000, 'n_jobs': 6, 'penalty': 'l2', 'random_state': 42, 'solver': 'newton-cg', 'tol': 0.0001, 'verbose': 0}\n",
      "Accuracy:   0.3800\n",
      "\n",
      "-------------------------------------------------------------------\n"
     ]
    },
    {
     "name": "stderr",
     "output_type": "stream",
     "text": []
    },
    {
     "name": "stdout",
     "output_type": "stream",
     "text": [
      "Best params: \n",
      "{'C': 0.1, 'max_iter': 2000, 'n_jobs': 6, 'penalty': 'l2', 'random_state': 42, 'solver': 'newton-cg', 'tol': 0.0001, 'verbose': 0}\n",
      "Accuracy:   0.5200\n",
      "\n",
      "-------------------------------------------------------------------\n",
      "Best params: \n",
      "{'C': 0.1, 'max_iter': 2000, 'n_jobs': 6, 'penalty': 'l2', 'random_state': 42, 'solver': 'newton-cg', 'tol': 0.0001, 'verbose': 0}\n",
      "Accuracy:   0.2900\n",
      "\n",
      "-------------------------------------------------------------------\n"
     ]
    },
    {
     "name": "stderr",
     "output_type": "stream",
     "text": []
    },
    {
     "name": "stdout",
     "output_type": "stream",
     "text": [
      "Best params: \n",
      "{'C': 0.1, 'max_iter': 2000, 'n_jobs': 6, 'penalty': 'l2', 'random_state': 42, 'solver': 'newton-cg', 'tol': 0.0001, 'verbose': 0}\n",
      "Accuracy:   0.4800\n",
      "\n",
      "-------------------------------------------------------------------\n",
      "Best params: \n",
      "{'C': 0.5, 'max_iter': 2000, 'n_jobs': 6, 'penalty': 'l2', 'random_state': 42, 'solver': 'newton-cg', 'tol': 0.0001, 'verbose': 0}\n",
      "Accuracy:   0.4500\n",
      "\n",
      "-------------------------------------------------------------------\n"
     ]
    },
    {
     "name": "stderr",
     "output_type": "stream",
     "text": [
      "100%|██████████| 4/4 [00:05<00:00,  1.31s/it]\n",
      " 25%|██▌       | 5/20 [00:24<01:15,  5.05s/it]"
     ]
    },
    {
     "name": "stdout",
     "output_type": "stream",
     "text": [
      "Best params: \n",
      "{'C': 0.1, 'max_iter': 2000, 'n_jobs': 6, 'penalty': 'l2', 'random_state': 42, 'solver': 'newton-cg', 'tol': 0.0001, 'verbose': 0}\n",
      "Accuracy:   0.5500\n",
      "\n",
      "-------------------------------------------------------------------\n"
     ]
    },
    {
     "name": "stderr",
     "output_type": "stream",
     "text": []
    },
    {
     "name": "stdout",
     "output_type": "stream",
     "text": [
      "Best params: \n",
      "{'C': 0.1, 'max_iter': 2000, 'n_jobs': 6, 'penalty': 'l2', 'random_state': 42, 'solver': 'newton-cg', 'tol': 0.0001, 'verbose': 0}\n",
      "Accuracy:   0.2300\n",
      "\n",
      "-------------------------------------------------------------------\n"
     ]
    },
    {
     "name": "stderr",
     "output_type": "stream",
     "text": []
    },
    {
     "name": "stdout",
     "output_type": "stream",
     "text": [
      "Best params: \n",
      "{'C': 0.1, 'max_iter': 2000, 'n_jobs': 6, 'penalty': 'l2', 'random_state': 42, 'solver': 'newton-cg', 'tol': 0.0001, 'verbose': 0}\n",
      "Accuracy:   0.2300\n",
      "\n",
      "-------------------------------------------------------------------\n",
      "Best params: \n",
      "{'C': 0.5, 'max_iter': 2000, 'n_jobs': 6, 'penalty': 'l2', 'random_state': 42, 'solver': 'newton-cg', 'tol': 0.0001, 'verbose': 0}\n",
      "Accuracy:   0.2000\n",
      "\n",
      "-------------------------------------------------------------------\n"
     ]
    },
    {
     "name": "stderr",
     "output_type": "stream",
     "text": []
    },
    {
     "name": "stdout",
     "output_type": "stream",
     "text": [
      "Best params: \n",
      "{'C': 0.5, 'max_iter': 2000, 'n_jobs': 6, 'penalty': 'l2', 'random_state': 42, 'solver': 'newton-cg', 'tol': 0.0001, 'verbose': 0}\n",
      "Accuracy:   0.2100\n",
      "\n",
      "-------------------------------------------------------------------\n",
      "Best params: \n",
      "{'C': 1, 'max_iter': 2000, 'n_jobs': 6, 'penalty': 'l2', 'random_state': 42, 'solver': 'newton-cg', 'tol': 0.0001, 'verbose': 0}\n",
      "Accuracy:   0.2000\n",
      "\n",
      "-------------------------------------------------------------------\n"
     ]
    },
    {
     "name": "stderr",
     "output_type": "stream",
     "text": []
    },
    {
     "name": "stdout",
     "output_type": "stream",
     "text": [
      "Best params: \n",
      "{'C': 10, 'max_iter': 2000, 'n_jobs': 6, 'penalty': 'l2', 'random_state': 42, 'solver': 'newton-cg', 'tol': 0.0001, 'verbose': 0}\n",
      "Accuracy:   0.2100\n",
      "\n",
      "-------------------------------------------------------------------\n",
      "Best params: \n",
      "{'C': 0.1, 'max_iter': 2000, 'n_jobs': 6, 'penalty': 'l2', 'random_state': 42, 'solver': 'newton-cg', 'tol': 0.0001, 'verbose': 0}\n",
      "Accuracy:   0.1700\n",
      "\n",
      "-------------------------------------------------------------------\n"
     ]
    },
    {
     "name": "stderr",
     "output_type": "stream",
     "text": [
      "100%|██████████| 4/4 [00:05<00:00,  1.36s/it]\n",
      " 30%|███       | 6/20 [00:30<01:12,  5.18s/it]"
     ]
    },
    {
     "name": "stdout",
     "output_type": "stream",
     "text": [
      "Best params: \n",
      "{'C': 0.5, 'max_iter': 2000, 'n_jobs': 6, 'penalty': 'l2', 'random_state': 42, 'solver': 'newton-cg', 'tol': 0.0001, 'verbose': 0}\n",
      "Accuracy:   0.2400\n",
      "\n",
      "-------------------------------------------------------------------\n"
     ]
    },
    {
     "name": "stderr",
     "output_type": "stream",
     "text": []
    },
    {
     "name": "stdout",
     "output_type": "stream",
     "text": [
      "Best params: \n",
      "{'C': 10, 'max_iter': 2000, 'n_jobs': 6, 'penalty': 'l2', 'random_state': 42, 'solver': 'newton-cg', 'tol': 0.0001, 'verbose': 0}\n",
      "Accuracy:   0.6800\n",
      "\n",
      "-------------------------------------------------------------------\n"
     ]
    },
    {
     "name": "stderr",
     "output_type": "stream",
     "text": []
    },
    {
     "name": "stdout",
     "output_type": "stream",
     "text": [
      "Best params: \n",
      "{'C': 10, 'max_iter': 2000, 'n_jobs': 6, 'penalty': 'l2', 'random_state': 42, 'solver': 'newton-cg', 'tol': 0.0001, 'verbose': 0}\n",
      "Accuracy:   0.7000\n",
      "\n",
      "-------------------------------------------------------------------\n",
      "Best params: \n",
      "{'C': 100, 'max_iter': 2000, 'n_jobs': 6, 'penalty': 'l2', 'random_state': 42, 'solver': 'newton-cg', 'tol': 0.0001, 'verbose': 0}\n",
      "Accuracy:   0.7100\n",
      "\n",
      "-------------------------------------------------------------------\n"
     ]
    },
    {
     "name": "stderr",
     "output_type": "stream",
     "text": []
    },
    {
     "name": "stdout",
     "output_type": "stream",
     "text": [
      "Best params: \n",
      "{'C': 100, 'max_iter': 2000, 'n_jobs': 6, 'penalty': 'l2', 'random_state': 42, 'solver': 'newton-cg', 'tol': 0.0001, 'verbose': 0}\n",
      "Accuracy:   0.7500\n",
      "\n",
      "-------------------------------------------------------------------\n",
      "Best params: \n",
      "{'C': 100, 'max_iter': 2000, 'n_jobs': 6, 'penalty': 'l2', 'random_state': 42, 'solver': 'newton-cg', 'tol': 0.0001, 'verbose': 0}\n",
      "Accuracy:   0.6700\n",
      "\n",
      "-------------------------------------------------------------------\n"
     ]
    },
    {
     "name": "stderr",
     "output_type": "stream",
     "text": []
    },
    {
     "name": "stdout",
     "output_type": "stream",
     "text": [
      "Best params: \n",
      "{'C': 100, 'max_iter': 2000, 'n_jobs': 6, 'penalty': 'l2', 'random_state': 42, 'solver': 'newton-cg', 'tol': 0.0001, 'verbose': 0}\n",
      "Accuracy:   0.7900\n",
      "\n",
      "-------------------------------------------------------------------\n",
      "Best params: \n",
      "{'C': 0.5, 'max_iter': 2000, 'n_jobs': 6, 'penalty': 'l2', 'random_state': 42, 'solver': 'newton-cg', 'tol': 0.0001, 'verbose': 0}\n",
      "Accuracy:   0.4400\n",
      "\n",
      "-------------------------------------------------------------------\n"
     ]
    },
    {
     "name": "stderr",
     "output_type": "stream",
     "text": [
      "100%|██████████| 4/4 [00:05<00:00,  1.48s/it]\n",
      " 35%|███▌      | 7/20 [00:36<01:10,  5.42s/it]"
     ]
    },
    {
     "name": "stdout",
     "output_type": "stream",
     "text": [
      "Best params: \n",
      "{'C': 10, 'max_iter': 2000, 'n_jobs': 6, 'penalty': 'l2', 'random_state': 42, 'solver': 'newton-cg', 'tol': 0.0001, 'verbose': 0}\n",
      "Accuracy:   0.7700\n",
      "\n",
      "-------------------------------------------------------------------\n"
     ]
    },
    {
     "name": "stderr",
     "output_type": "stream",
     "text": []
    },
    {
     "name": "stdout",
     "output_type": "stream",
     "text": [
      "Best params: \n",
      "{'C': 0.1, 'max_iter': 2000, 'n_jobs': 6, 'penalty': 'l2', 'random_state': 42, 'solver': 'newton-cg', 'tol': 0.0001, 'verbose': 0}\n",
      "Accuracy:   0.2400\n",
      "\n",
      "-------------------------------------------------------------------\n"
     ]
    },
    {
     "name": "stderr",
     "output_type": "stream",
     "text": []
    },
    {
     "name": "stdout",
     "output_type": "stream",
     "text": [
      "Best params: \n",
      "{'C': 10, 'max_iter': 2000, 'n_jobs': 6, 'penalty': 'l2', 'random_state': 42, 'solver': 'newton-cg', 'tol': 0.0001, 'verbose': 0}\n",
      "Accuracy:   0.6200\n",
      "\n",
      "-------------------------------------------------------------------\n",
      "Best params: \n",
      "{'C': 0.1, 'max_iter': 2000, 'n_jobs': 6, 'penalty': 'l2', 'random_state': 42, 'solver': 'newton-cg', 'tol': 0.0001, 'verbose': 0}\n",
      "Accuracy:   0.2500\n",
      "\n",
      "-------------------------------------------------------------------\n"
     ]
    },
    {
     "name": "stderr",
     "output_type": "stream",
     "text": []
    },
    {
     "name": "stdout",
     "output_type": "stream",
     "text": [
      "Best params: \n",
      "{'C': 100, 'max_iter': 2000, 'n_jobs': 6, 'penalty': 'l2', 'random_state': 42, 'solver': 'newton-cg', 'tol': 0.0001, 'verbose': 0}\n",
      "Accuracy:   0.5700\n",
      "\n",
      "-------------------------------------------------------------------\n",
      "Best params: \n",
      "{'C': 1, 'max_iter': 2000, 'n_jobs': 6, 'penalty': 'l2', 'random_state': 42, 'solver': 'newton-cg', 'tol': 0.0001, 'verbose': 0}\n",
      "Accuracy:   0.2100\n",
      "\n",
      "-------------------------------------------------------------------\n"
     ]
    },
    {
     "name": "stderr",
     "output_type": "stream",
     "text": []
    },
    {
     "name": "stdout",
     "output_type": "stream",
     "text": [
      "Best params: \n",
      "{'C': 100, 'max_iter': 2000, 'n_jobs': 6, 'penalty': 'l2', 'random_state': 42, 'solver': 'newton-cg', 'tol': 0.0001, 'verbose': 0}\n",
      "Accuracy:   0.7100\n",
      "\n",
      "-------------------------------------------------------------------\n",
      "Best params: \n",
      "{'C': 0.1, 'max_iter': 2000, 'n_jobs': 6, 'penalty': 'l2', 'random_state': 42, 'solver': 'newton-cg', 'tol': 0.0001, 'verbose': 0}\n",
      "Accuracy:   0.2100\n",
      "\n",
      "-------------------------------------------------------------------\n"
     ]
    },
    {
     "name": "stderr",
     "output_type": "stream",
     "text": [
      "100%|██████████| 4/4 [00:05<00:00,  1.49s/it]\n",
      " 40%|████      | 8/20 [00:42<01:07,  5.59s/it]"
     ]
    },
    {
     "name": "stdout",
     "output_type": "stream",
     "text": [
      "Best params: \n",
      "{'C': 100, 'max_iter': 2000, 'n_jobs': 6, 'penalty': 'l2', 'random_state': 42, 'solver': 'newton-cg', 'tol': 0.0001, 'verbose': 0}\n",
      "Accuracy:   0.6800\n",
      "\n",
      "-------------------------------------------------------------------\n"
     ]
    },
    {
     "name": "stderr",
     "output_type": "stream",
     "text": []
    },
    {
     "name": "stdout",
     "output_type": "stream",
     "text": [
      "Best params: \n",
      "{'C': 0.5, 'max_iter': 2000, 'n_jobs': 6, 'penalty': 'l2', 'random_state': 42, 'solver': 'newton-cg', 'tol': 0.0001, 'verbose': 0}\n",
      "Accuracy:   0.1600\n",
      "\n",
      "-------------------------------------------------------------------\n"
     ]
    },
    {
     "name": "stderr",
     "output_type": "stream",
     "text": []
    },
    {
     "name": "stdout",
     "output_type": "stream",
     "text": [
      "Best params: \n",
      "{'C': 10, 'max_iter': 2000, 'n_jobs': 6, 'penalty': 'l2', 'random_state': 42, 'solver': 'newton-cg', 'tol': 0.0001, 'verbose': 0}\n",
      "Accuracy:   0.6300\n",
      "\n",
      "-------------------------------------------------------------------\n",
      "Best params: \n",
      "{'C': 0.1, 'max_iter': 2000, 'n_jobs': 6, 'penalty': 'l2', 'random_state': 42, 'solver': 'newton-cg', 'tol': 0.0001, 'verbose': 0}\n",
      "Accuracy:   0.1600\n",
      "\n",
      "-------------------------------------------------------------------\n"
     ]
    },
    {
     "name": "stderr",
     "output_type": "stream",
     "text": []
    },
    {
     "name": "stdout",
     "output_type": "stream",
     "text": [
      "Best params: \n",
      "{'C': 100, 'max_iter': 2000, 'n_jobs': 6, 'penalty': 'l2', 'random_state': 42, 'solver': 'newton-cg', 'tol': 0.0001, 'verbose': 0}\n",
      "Accuracy:   0.6500\n",
      "\n",
      "-------------------------------------------------------------------\n",
      "Best params: \n",
      "{'C': 0.1, 'max_iter': 2000, 'n_jobs': 6, 'penalty': 'l2', 'random_state': 42, 'solver': 'newton-cg', 'tol': 0.0001, 'verbose': 0}\n",
      "Accuracy:   0.1700\n",
      "\n",
      "-------------------------------------------------------------------\n"
     ]
    },
    {
     "name": "stderr",
     "output_type": "stream",
     "text": []
    },
    {
     "name": "stdout",
     "output_type": "stream",
     "text": [
      "Best params: \n",
      "{'C': 100, 'max_iter': 2000, 'n_jobs': 6, 'penalty': 'l2', 'random_state': 42, 'solver': 'newton-cg', 'tol': 0.0001, 'verbose': 0}\n",
      "Accuracy:   0.5800\n",
      "\n",
      "-------------------------------------------------------------------\n",
      "Best params: \n",
      "{'C': 0.5, 'max_iter': 2000, 'n_jobs': 6, 'penalty': 'l2', 'random_state': 42, 'solver': 'newton-cg', 'tol': 0.0001, 'verbose': 0}\n",
      "Accuracy:   0.2000\n",
      "\n",
      "-------------------------------------------------------------------\n"
     ]
    },
    {
     "name": "stderr",
     "output_type": "stream",
     "text": [
      "100%|██████████| 4/4 [00:05<00:00,  1.45s/it]\n",
      " 45%|████▌     | 9/20 [00:48<01:02,  5.66s/it]"
     ]
    },
    {
     "name": "stdout",
     "output_type": "stream",
     "text": [
      "Best params: \n",
      "{'C': 10, 'max_iter': 2000, 'n_jobs': 6, 'penalty': 'l2', 'random_state': 42, 'solver': 'newton-cg', 'tol': 0.0001, 'verbose': 0}\n",
      "Accuracy:   0.5400\n",
      "\n",
      "-------------------------------------------------------------------\n"
     ]
    },
    {
     "name": "stderr",
     "output_type": "stream",
     "text": []
    },
    {
     "name": "stdout",
     "output_type": "stream",
     "text": [
      "Best params: \n",
      "{'C': 0.1, 'max_iter': 2000, 'n_jobs': 6, 'penalty': 'l2', 'random_state': 42, 'solver': 'newton-cg', 'tol': 0.0001, 'verbose': 0}\n",
      "Accuracy:   0.2100\n",
      "\n",
      "-------------------------------------------------------------------\n"
     ]
    },
    {
     "name": "stderr",
     "output_type": "stream",
     "text": []
    },
    {
     "name": "stdout",
     "output_type": "stream",
     "text": [
      "Best params: \n",
      "{'C': 1, 'max_iter': 2000, 'n_jobs': 6, 'penalty': 'l2', 'random_state': 42, 'solver': 'newton-cg', 'tol': 0.0001, 'verbose': 0}\n",
      "Accuracy:   0.5000\n",
      "\n",
      "-------------------------------------------------------------------\n",
      "Best params: \n",
      "{'C': 0.5, 'max_iter': 2000, 'n_jobs': 6, 'penalty': 'l2', 'random_state': 42, 'solver': 'newton-cg', 'tol': 0.0001, 'verbose': 0}\n",
      "Accuracy:   0.3200\n",
      "\n",
      "-------------------------------------------------------------------\n"
     ]
    },
    {
     "name": "stderr",
     "output_type": "stream",
     "text": []
    },
    {
     "name": "stdout",
     "output_type": "stream",
     "text": [
      "Best params: \n",
      "{'C': 1, 'max_iter': 2000, 'n_jobs': 6, 'penalty': 'l2', 'random_state': 42, 'solver': 'newton-cg', 'tol': 0.0001, 'verbose': 0}\n",
      "Accuracy:   0.5900\n",
      "\n",
      "-------------------------------------------------------------------\n",
      "Best params: \n",
      "{'C': 10, 'max_iter': 2000, 'n_jobs': 6, 'penalty': 'l2', 'random_state': 42, 'solver': 'newton-cg', 'tol': 0.0001, 'verbose': 0}\n",
      "Accuracy:   0.1800\n",
      "\n",
      "-------------------------------------------------------------------\n"
     ]
    },
    {
     "name": "stderr",
     "output_type": "stream",
     "text": []
    },
    {
     "name": "stdout",
     "output_type": "stream",
     "text": [
      "Best params: \n",
      "{'C': 1, 'max_iter': 2000, 'n_jobs': 6, 'penalty': 'l2', 'random_state': 42, 'solver': 'newton-cg', 'tol': 0.0001, 'verbose': 0}\n",
      "Accuracy:   0.5100\n",
      "\n",
      "-------------------------------------------------------------------\n",
      "Best params: \n",
      "{'C': 0.1, 'max_iter': 2000, 'n_jobs': 6, 'penalty': 'l2', 'random_state': 42, 'solver': 'newton-cg', 'tol': 0.0001, 'verbose': 0}\n",
      "Accuracy:   0.1400\n",
      "\n",
      "-------------------------------------------------------------------\n"
     ]
    },
    {
     "name": "stderr",
     "output_type": "stream",
     "text": [
      "100%|██████████| 4/4 [00:06<00:00,  1.57s/it]\n",
      " 50%|█████     | 10/20 [00:54<00:58,  5.85s/it]"
     ]
    },
    {
     "name": "stdout",
     "output_type": "stream",
     "text": [
      "Best params: \n",
      "{'C': 1, 'max_iter': 2000, 'n_jobs': 6, 'penalty': 'l2', 'random_state': 42, 'solver': 'newton-cg', 'tol': 0.0001, 'verbose': 0}\n",
      "Accuracy:   0.5300\n",
      "\n",
      "-------------------------------------------------------------------\n"
     ]
    },
    {
     "name": "stderr",
     "output_type": "stream",
     "text": []
    },
    {
     "name": "stdout",
     "output_type": "stream",
     "text": [
      "Best params: \n",
      "{'C': 0.5, 'max_iter': 2000, 'n_jobs': 6, 'penalty': 'l2', 'random_state': 42, 'solver': 'newton-cg', 'tol': 0.0001, 'verbose': 0}\n",
      "Accuracy:   0.1900\n",
      "\n",
      "-------------------------------------------------------------------\n"
     ]
    },
    {
     "name": "stderr",
     "output_type": "stream",
     "text": []
    },
    {
     "name": "stdout",
     "output_type": "stream",
     "text": [
      "Best params: \n",
      "{'C': 0.1, 'max_iter': 2000, 'n_jobs': 6, 'penalty': 'l2', 'random_state': 42, 'solver': 'newton-cg', 'tol': 0.0001, 'verbose': 0}\n",
      "Accuracy:   0.3800\n",
      "\n",
      "-------------------------------------------------------------------\n",
      "Best params: \n",
      "{'C': 0.1, 'max_iter': 2000, 'n_jobs': 6, 'penalty': 'l2', 'random_state': 42, 'solver': 'newton-cg', 'tol': 0.0001, 'verbose': 0}\n",
      "Accuracy:   0.1300\n",
      "\n",
      "-------------------------------------------------------------------\n"
     ]
    },
    {
     "name": "stderr",
     "output_type": "stream",
     "text": []
    },
    {
     "name": "stdout",
     "output_type": "stream",
     "text": [
      "Best params: \n",
      "{'C': 0.1, 'max_iter': 2000, 'n_jobs': 6, 'penalty': 'l2', 'random_state': 42, 'solver': 'newton-cg', 'tol': 0.0001, 'verbose': 0}\n",
      "Accuracy:   0.4900\n",
      "\n",
      "-------------------------------------------------------------------\n",
      "Best params: \n",
      "{'C': 0.5, 'max_iter': 2000, 'n_jobs': 6, 'penalty': 'l2', 'random_state': 42, 'solver': 'newton-cg', 'tol': 0.0001, 'verbose': 0}\n",
      "Accuracy:   0.1900\n",
      "\n",
      "-------------------------------------------------------------------\n"
     ]
    },
    {
     "name": "stderr",
     "output_type": "stream",
     "text": []
    },
    {
     "name": "stdout",
     "output_type": "stream",
     "text": [
      "Best params: \n",
      "{'C': 0.1, 'max_iter': 2000, 'n_jobs': 6, 'penalty': 'l2', 'random_state': 42, 'solver': 'newton-cg', 'tol': 0.0001, 'verbose': 0}\n",
      "Accuracy:   0.4500\n",
      "\n",
      "-------------------------------------------------------------------\n",
      "Best params: \n",
      "{'C': 10, 'max_iter': 2000, 'n_jobs': 6, 'penalty': 'l2', 'random_state': 42, 'solver': 'newton-cg', 'tol': 0.0001, 'verbose': 0}\n",
      "Accuracy:   0.1200\n",
      "\n",
      "-------------------------------------------------------------------\n"
     ]
    },
    {
     "name": "stderr",
     "output_type": "stream",
     "text": [
      "100%|██████████| 4/4 [00:07<00:00,  1.78s/it]\n",
      " 55%|█████▌    | 11/20 [01:01<00:56,  6.25s/it]"
     ]
    },
    {
     "name": "stdout",
     "output_type": "stream",
     "text": [
      "Best params: \n",
      "{'C': 10, 'max_iter': 2000, 'n_jobs': 6, 'penalty': 'l2', 'random_state': 42, 'solver': 'newton-cg', 'tol': 0.0001, 'verbose': 0}\n",
      "Accuracy:   0.4700\n",
      "\n",
      "-------------------------------------------------------------------\n"
     ]
    },
    {
     "name": "stderr",
     "output_type": "stream",
     "text": []
    },
    {
     "name": "stdout",
     "output_type": "stream",
     "text": [
      "Best params: \n",
      "{'C': 0.1, 'max_iter': 2000, 'n_jobs': 6, 'penalty': 'l2', 'random_state': 42, 'solver': 'newton-cg', 'tol': 0.0001, 'verbose': 0}\n",
      "Accuracy:   0.1400\n",
      "\n",
      "-------------------------------------------------------------------\n"
     ]
    },
    {
     "name": "stderr",
     "output_type": "stream",
     "text": []
    },
    {
     "name": "stdout",
     "output_type": "stream",
     "text": [
      "Best params: \n",
      "{'C': 0.5, 'max_iter': 2000, 'n_jobs': 6, 'penalty': 'l2', 'random_state': 42, 'solver': 'newton-cg', 'tol': 0.0001, 'verbose': 0}\n",
      "Accuracy:   0.3200\n",
      "\n",
      "-------------------------------------------------------------------\n",
      "Best params: \n",
      "{'C': 0.5, 'max_iter': 2000, 'n_jobs': 6, 'penalty': 'l2', 'random_state': 42, 'solver': 'newton-cg', 'tol': 0.0001, 'verbose': 0}\n",
      "Accuracy:   0.1700\n",
      "\n",
      "-------------------------------------------------------------------\n"
     ]
    },
    {
     "name": "stderr",
     "output_type": "stream",
     "text": []
    },
    {
     "name": "stdout",
     "output_type": "stream",
     "text": [
      "Best params: \n",
      "{'C': 0.1, 'max_iter': 2000, 'n_jobs': 6, 'penalty': 'l2', 'random_state': 42, 'solver': 'newton-cg', 'tol': 0.0001, 'verbose': 0}\n",
      "Accuracy:   0.4400\n",
      "\n",
      "-------------------------------------------------------------------\n",
      "Best params: \n",
      "{'C': 0.1, 'max_iter': 2000, 'n_jobs': 6, 'penalty': 'l2', 'random_state': 42, 'solver': 'newton-cg', 'tol': 0.0001, 'verbose': 0}\n",
      "Accuracy:   0.1700\n",
      "\n",
      "-------------------------------------------------------------------\n"
     ]
    },
    {
     "name": "stderr",
     "output_type": "stream",
     "text": []
    },
    {
     "name": "stdout",
     "output_type": "stream",
     "text": [
      "Best params: \n",
      "{'C': 0.1, 'max_iter': 2000, 'n_jobs': 6, 'penalty': 'l2', 'random_state': 42, 'solver': 'newton-cg', 'tol': 0.0001, 'verbose': 0}\n",
      "Accuracy:   0.4100\n",
      "\n",
      "-------------------------------------------------------------------\n",
      "Best params: \n",
      "{'C': 0.1, 'max_iter': 2000, 'n_jobs': 6, 'penalty': 'l2', 'random_state': 42, 'solver': 'newton-cg', 'tol': 0.0001, 'verbose': 0}\n",
      "Accuracy:   0.1200\n",
      "\n",
      "-------------------------------------------------------------------\n"
     ]
    },
    {
     "name": "stderr",
     "output_type": "stream",
     "text": [
      "100%|██████████| 4/4 [00:07<00:00,  1.80s/it]\n",
      " 60%|██████    | 12/20 [01:08<00:52,  6.54s/it]"
     ]
    },
    {
     "name": "stdout",
     "output_type": "stream",
     "text": [
      "Best params: \n",
      "{'C': 0.5, 'max_iter': 2000, 'n_jobs': 6, 'penalty': 'l2', 'random_state': 42, 'solver': 'newton-cg', 'tol': 0.0001, 'verbose': 0}\n",
      "Accuracy:   0.4000\n",
      "\n",
      "-------------------------------------------------------------------\n"
     ]
    },
    {
     "name": "stderr",
     "output_type": "stream",
     "text": []
    },
    {
     "name": "stdout",
     "output_type": "stream",
     "text": [
      "Best params: \n",
      "{'C': 10, 'max_iter': 2000, 'n_jobs': 6, 'penalty': 'l2', 'random_state': 42, 'solver': 'newton-cg', 'tol': 0.0001, 'verbose': 0}\n",
      "Accuracy:   0.2200\n",
      "\n",
      "-------------------------------------------------------------------\n"
     ]
    },
    {
     "name": "stderr",
     "output_type": "stream",
     "text": []
    },
    {
     "name": "stdout",
     "output_type": "stream",
     "text": [
      "Best params: \n",
      "{'C': 0.1, 'max_iter': 2000, 'n_jobs': 6, 'penalty': 'l2', 'random_state': 42, 'solver': 'newton-cg', 'tol': 0.0001, 'verbose': 0}\n",
      "Accuracy:   0.3900\n",
      "\n",
      "-------------------------------------------------------------------\n",
      "Best params: \n",
      "{'C': 0.5, 'max_iter': 2000, 'n_jobs': 6, 'penalty': 'l2', 'random_state': 42, 'solver': 'newton-cg', 'tol': 0.0001, 'verbose': 0}\n",
      "Accuracy:   0.2800\n",
      "\n",
      "-------------------------------------------------------------------\n"
     ]
    },
    {
     "name": "stderr",
     "output_type": "stream",
     "text": []
    },
    {
     "name": "stdout",
     "output_type": "stream",
     "text": [
      "Best params: \n",
      "{'C': 0.1, 'max_iter': 2000, 'n_jobs': 6, 'penalty': 'l2', 'random_state': 42, 'solver': 'newton-cg', 'tol': 0.0001, 'verbose': 0}\n",
      "Accuracy:   0.4100\n",
      "\n",
      "-------------------------------------------------------------------\n",
      "Best params: \n",
      "{'C': 0.1, 'max_iter': 2000, 'n_jobs': 6, 'penalty': 'l2', 'random_state': 42, 'solver': 'newton-cg', 'tol': 0.0001, 'verbose': 0}\n",
      "Accuracy:   0.1300\n",
      "\n",
      "-------------------------------------------------------------------\n"
     ]
    },
    {
     "name": "stderr",
     "output_type": "stream",
     "text": []
    },
    {
     "name": "stdout",
     "output_type": "stream",
     "text": [
      "Best params: \n",
      "{'C': 10, 'max_iter': 2000, 'n_jobs': 6, 'penalty': 'l2', 'random_state': 42, 'solver': 'newton-cg', 'tol': 0.0001, 'verbose': 0}\n",
      "Accuracy:   0.3700\n",
      "\n",
      "-------------------------------------------------------------------\n",
      "Best params: \n",
      "{'C': 0.1, 'max_iter': 2000, 'n_jobs': 6, 'penalty': 'l2', 'random_state': 42, 'solver': 'newton-cg', 'tol': 0.0001, 'verbose': 0}\n",
      "Accuracy:   0.2000\n",
      "\n",
      "-------------------------------------------------------------------\n"
     ]
    },
    {
     "name": "stderr",
     "output_type": "stream",
     "text": [
      "100%|██████████| 4/4 [00:06<00:00,  1.71s/it]\n",
      " 65%|██████▌   | 13/20 [01:15<00:46,  6.64s/it]"
     ]
    },
    {
     "name": "stdout",
     "output_type": "stream",
     "text": [
      "Best params: \n",
      "{'C': 0.1, 'max_iter': 2000, 'n_jobs': 6, 'penalty': 'l2', 'random_state': 42, 'solver': 'newton-cg', 'tol': 0.0001, 'verbose': 0}\n",
      "Accuracy:   0.3600\n",
      "\n",
      "-------------------------------------------------------------------\n"
     ]
    },
    {
     "name": "stderr",
     "output_type": "stream",
     "text": []
    },
    {
     "name": "stdout",
     "output_type": "stream",
     "text": [
      "Best params: \n",
      "{'C': 0.1, 'max_iter': 2000, 'n_jobs': 6, 'penalty': 'l2', 'random_state': 42, 'solver': 'newton-cg', 'tol': 0.0001, 'verbose': 0}\n",
      "Accuracy:   0.1300\n",
      "\n",
      "-------------------------------------------------------------------\n"
     ]
    },
    {
     "name": "stderr",
     "output_type": "stream",
     "text": []
    },
    {
     "name": "stdout",
     "output_type": "stream",
     "text": [
      "Best params: \n",
      "{'C': 10, 'max_iter': 2000, 'n_jobs': 6, 'penalty': 'l2', 'random_state': 42, 'solver': 'newton-cg', 'tol': 0.0001, 'verbose': 0}\n",
      "Accuracy:   0.3600\n",
      "\n",
      "-------------------------------------------------------------------\n",
      "Best params: \n",
      "{'C': 1, 'max_iter': 2000, 'n_jobs': 6, 'penalty': 'l2', 'random_state': 42, 'solver': 'newton-cg', 'tol': 0.0001, 'verbose': 0}\n",
      "Accuracy:   0.2200\n",
      "\n",
      "-------------------------------------------------------------------\n"
     ]
    },
    {
     "name": "stderr",
     "output_type": "stream",
     "text": []
    },
    {
     "name": "stdout",
     "output_type": "stream",
     "text": [
      "Best params: \n",
      "{'C': 0.1, 'max_iter': 2000, 'n_jobs': 6, 'penalty': 'l2', 'random_state': 42, 'solver': 'newton-cg', 'tol': 0.0001, 'verbose': 0}\n",
      "Accuracy:   0.3700\n",
      "\n",
      "-------------------------------------------------------------------\n",
      "Best params: \n",
      "{'C': 0.1, 'max_iter': 2000, 'n_jobs': 6, 'penalty': 'l2', 'random_state': 42, 'solver': 'newton-cg', 'tol': 0.0001, 'verbose': 0}\n",
      "Accuracy:   0.3300\n",
      "\n",
      "-------------------------------------------------------------------\n"
     ]
    },
    {
     "name": "stderr",
     "output_type": "stream",
     "text": []
    },
    {
     "name": "stdout",
     "output_type": "stream",
     "text": [
      "Best params: \n",
      "{'C': 0.1, 'max_iter': 2000, 'n_jobs': 6, 'penalty': 'l2', 'random_state': 42, 'solver': 'newton-cg', 'tol': 0.0001, 'verbose': 0}\n",
      "Accuracy:   0.3600\n",
      "\n",
      "-------------------------------------------------------------------\n",
      "Best params: \n",
      "{'C': 1, 'max_iter': 2000, 'n_jobs': 6, 'penalty': 'l2', 'random_state': 42, 'solver': 'newton-cg', 'tol': 0.0001, 'verbose': 0}\n",
      "Accuracy:   0.1800\n",
      "\n",
      "-------------------------------------------------------------------\n"
     ]
    },
    {
     "name": "stderr",
     "output_type": "stream",
     "text": [
      "100%|██████████| 4/4 [00:08<00:00,  2.15s/it]\n",
      " 70%|███████   | 14/20 [01:24<00:43,  7.23s/it]"
     ]
    },
    {
     "name": "stdout",
     "output_type": "stream",
     "text": [
      "Best params: \n",
      "{'C': 100, 'max_iter': 2000, 'n_jobs': 6, 'penalty': 'l2', 'random_state': 42, 'solver': 'newton-cg', 'tol': 0.0001, 'verbose': 0}\n",
      "Accuracy:   0.4200\n",
      "\n",
      "-------------------------------------------------------------------\n"
     ]
    },
    {
     "name": "stderr",
     "output_type": "stream",
     "text": []
    },
    {
     "name": "stdout",
     "output_type": "stream",
     "text": [
      "Best params: \n",
      "{'C': 0.1, 'max_iter': 2000, 'n_jobs': 6, 'penalty': 'l2', 'random_state': 42, 'solver': 'newton-cg', 'tol': 0.0001, 'verbose': 0}\n",
      "Accuracy:   0.2200\n",
      "\n",
      "-------------------------------------------------------------------\n"
     ]
    },
    {
     "name": "stderr",
     "output_type": "stream",
     "text": []
    },
    {
     "name": "stdout",
     "output_type": "stream",
     "text": [
      "Best params: \n",
      "{'C': 0.1, 'max_iter': 2000, 'n_jobs': 6, 'penalty': 'l2', 'random_state': 42, 'solver': 'newton-cg', 'tol': 0.0001, 'verbose': 0}\n",
      "Accuracy:   0.2400\n",
      "\n",
      "-------------------------------------------------------------------\n",
      "Best params: \n",
      "{'C': 10, 'max_iter': 2000, 'n_jobs': 6, 'penalty': 'l2', 'random_state': 42, 'solver': 'newton-cg', 'tol': 0.0001, 'verbose': 0}\n",
      "Accuracy:   0.1600\n",
      "\n",
      "-------------------------------------------------------------------\n"
     ]
    },
    {
     "name": "stderr",
     "output_type": "stream",
     "text": []
    },
    {
     "name": "stdout",
     "output_type": "stream",
     "text": [
      "Best params: \n",
      "{'C': 100, 'max_iter': 2000, 'n_jobs': 6, 'penalty': 'l2', 'random_state': 42, 'solver': 'newton-cg', 'tol': 0.0001, 'verbose': 0}\n",
      "Accuracy:   0.2500\n",
      "\n",
      "-------------------------------------------------------------------\n",
      "Best params: \n",
      "{'C': 10, 'max_iter': 2000, 'n_jobs': 6, 'penalty': 'l2', 'random_state': 42, 'solver': 'newton-cg', 'tol': 0.0001, 'verbose': 0}\n",
      "Accuracy:   0.1800\n",
      "\n",
      "-------------------------------------------------------------------\n"
     ]
    },
    {
     "name": "stderr",
     "output_type": "stream",
     "text": []
    },
    {
     "name": "stdout",
     "output_type": "stream",
     "text": [
      "Best params: \n",
      "{'C': 0.1, 'max_iter': 2000, 'n_jobs': 6, 'penalty': 'l2', 'random_state': 42, 'solver': 'newton-cg', 'tol': 0.0001, 'verbose': 0}\n",
      "Accuracy:   0.2700\n",
      "\n",
      "-------------------------------------------------------------------\n",
      "Best params: \n",
      "{'C': 10, 'max_iter': 2000, 'n_jobs': 6, 'penalty': 'l2', 'random_state': 42, 'solver': 'newton-cg', 'tol': 0.0001, 'verbose': 0}\n",
      "Accuracy:   0.2400\n",
      "\n",
      "-------------------------------------------------------------------\n"
     ]
    },
    {
     "name": "stderr",
     "output_type": "stream",
     "text": [
      "100%|██████████| 4/4 [00:08<00:00,  2.19s/it]\n",
      " 75%|███████▌  | 15/20 [01:32<00:38,  7.69s/it]"
     ]
    },
    {
     "name": "stdout",
     "output_type": "stream",
     "text": [
      "Best params: \n",
      "{'C': 10, 'max_iter': 2000, 'n_jobs': 6, 'penalty': 'l2', 'random_state': 42, 'solver': 'newton-cg', 'tol': 0.0001, 'verbose': 0}\n",
      "Accuracy:   0.3700\n",
      "\n",
      "-------------------------------------------------------------------\n"
     ]
    },
    {
     "name": "stderr",
     "output_type": "stream",
     "text": []
    },
    {
     "name": "stdout",
     "output_type": "stream",
     "text": [
      "Best params: \n",
      "{'C': 0.1, 'max_iter': 2000, 'n_jobs': 6, 'penalty': 'l2', 'random_state': 42, 'solver': 'newton-cg', 'tol': 0.0001, 'verbose': 0}\n",
      "Accuracy:   0.2000\n",
      "\n",
      "-------------------------------------------------------------------\n"
     ]
    },
    {
     "name": "stderr",
     "output_type": "stream",
     "text": []
    },
    {
     "name": "stdout",
     "output_type": "stream",
     "text": [
      "Best params: \n",
      "{'C': 0.1, 'max_iter': 2000, 'n_jobs': 6, 'penalty': 'l2', 'random_state': 42, 'solver': 'newton-cg', 'tol': 0.0001, 'verbose': 0}\n",
      "Accuracy:   0.2200\n",
      "\n",
      "-------------------------------------------------------------------\n",
      "Best params: \n",
      "{'C': 0.1, 'max_iter': 2000, 'n_jobs': 6, 'penalty': 'l2', 'random_state': 42, 'solver': 'newton-cg', 'tol': 0.0001, 'verbose': 0}\n",
      "Accuracy:   0.2600\n",
      "\n",
      "-------------------------------------------------------------------\n"
     ]
    },
    {
     "name": "stderr",
     "output_type": "stream",
     "text": []
    },
    {
     "name": "stdout",
     "output_type": "stream",
     "text": [
      "Best params: \n",
      "{'C': 0.1, 'max_iter': 2000, 'n_jobs': 6, 'penalty': 'l2', 'random_state': 42, 'solver': 'newton-cg', 'tol': 0.0001, 'verbose': 0}\n",
      "Accuracy:   0.2700\n",
      "\n",
      "-------------------------------------------------------------------\n",
      "Best params: \n",
      "{'C': 0.1, 'max_iter': 2000, 'n_jobs': 6, 'penalty': 'l2', 'random_state': 42, 'solver': 'newton-cg', 'tol': 0.0001, 'verbose': 0}\n",
      "Accuracy:   0.1600\n",
      "\n",
      "-------------------------------------------------------------------\n"
     ]
    },
    {
     "name": "stderr",
     "output_type": "stream",
     "text": []
    },
    {
     "name": "stdout",
     "output_type": "stream",
     "text": [
      "Best params: \n",
      "{'C': 10, 'max_iter': 2000, 'n_jobs': 6, 'penalty': 'l2', 'random_state': 42, 'solver': 'newton-cg', 'tol': 0.0001, 'verbose': 0}\n",
      "Accuracy:   0.2000\n",
      "\n",
      "-------------------------------------------------------------------\n",
      "Best params: \n",
      "{'C': 0.1, 'max_iter': 2000, 'n_jobs': 6, 'penalty': 'l2', 'random_state': 42, 'solver': 'newton-cg', 'tol': 0.0001, 'verbose': 0}\n",
      "Accuracy:   0.2100\n",
      "\n",
      "-------------------------------------------------------------------\n"
     ]
    },
    {
     "name": "stderr",
     "output_type": "stream",
     "text": [
      "100%|██████████| 4/4 [00:10<00:00,  2.56s/it]\n",
      " 80%|████████  | 16/20 [01:43<00:33,  8.46s/it]"
     ]
    },
    {
     "name": "stdout",
     "output_type": "stream",
     "text": [
      "Best params: \n",
      "{'C': 0.1, 'max_iter': 2000, 'n_jobs': 6, 'penalty': 'l2', 'random_state': 42, 'solver': 'newton-cg', 'tol': 0.0001, 'verbose': 0}\n",
      "Accuracy:   0.2000\n",
      "\n",
      "-------------------------------------------------------------------\n"
     ]
    },
    {
     "name": "stderr",
     "output_type": "stream",
     "text": []
    },
    {
     "name": "stdout",
     "output_type": "stream",
     "text": [
      "Best params: \n",
      "{'C': 0.1, 'max_iter': 2000, 'n_jobs': 6, 'penalty': 'l2', 'random_state': 42, 'solver': 'newton-cg', 'tol': 0.0001, 'verbose': 0}\n",
      "Accuracy:   0.1800\n",
      "\n",
      "-------------------------------------------------------------------\n"
     ]
    },
    {
     "name": "stderr",
     "output_type": "stream",
     "text": []
    },
    {
     "name": "stdout",
     "output_type": "stream",
     "text": [
      "Best params: \n",
      "{'C': 0.5, 'max_iter': 2000, 'n_jobs': 6, 'penalty': 'l2', 'random_state': 42, 'solver': 'newton-cg', 'tol': 0.0001, 'verbose': 0}\n",
      "Accuracy:   0.3600\n",
      "\n",
      "-------------------------------------------------------------------\n",
      "Best params: \n",
      "{'C': 0.1, 'max_iter': 2000, 'n_jobs': 6, 'penalty': 'l2', 'random_state': 42, 'solver': 'newton-cg', 'tol': 0.0001, 'verbose': 0}\n",
      "Accuracy:   0.2000\n",
      "\n",
      "-------------------------------------------------------------------\n"
     ]
    },
    {
     "name": "stderr",
     "output_type": "stream",
     "text": []
    },
    {
     "name": "stdout",
     "output_type": "stream",
     "text": [
      "Best params: \n",
      "{'C': 100, 'max_iter': 2000, 'n_jobs': 6, 'penalty': 'l2', 'random_state': 42, 'solver': 'newton-cg', 'tol': 0.0001, 'verbose': 0}\n",
      "Accuracy:   0.2800\n",
      "\n",
      "-------------------------------------------------------------------\n",
      "Best params: \n",
      "{'C': 0.1, 'max_iter': 2000, 'n_jobs': 6, 'penalty': 'l2', 'random_state': 42, 'solver': 'newton-cg', 'tol': 0.0001, 'verbose': 0}\n",
      "Accuracy:   0.2000\n",
      "\n",
      "-------------------------------------------------------------------\n"
     ]
    },
    {
     "name": "stderr",
     "output_type": "stream",
     "text": []
    },
    {
     "name": "stdout",
     "output_type": "stream",
     "text": [
      "Best params: \n",
      "{'C': 10, 'max_iter': 2000, 'n_jobs': 6, 'penalty': 'l2', 'random_state': 42, 'solver': 'newton-cg', 'tol': 0.0001, 'verbose': 0}\n",
      "Accuracy:   0.2900\n",
      "\n",
      "-------------------------------------------------------------------\n",
      "Best params: \n",
      "{'C': 0.1, 'max_iter': 2000, 'n_jobs': 6, 'penalty': 'l2', 'random_state': 42, 'solver': 'newton-cg', 'tol': 0.0001, 'verbose': 0}\n",
      "Accuracy:   0.1700\n",
      "\n",
      "-------------------------------------------------------------------\n"
     ]
    },
    {
     "name": "stderr",
     "output_type": "stream",
     "text": [
      "100%|██████████| 4/4 [00:11<00:00,  2.75s/it]\n",
      " 85%|████████▌ | 17/20 [01:54<00:27,  9.23s/it]"
     ]
    },
    {
     "name": "stdout",
     "output_type": "stream",
     "text": [
      "Best params: \n",
      "{'C': 100, 'max_iter': 2000, 'n_jobs': 6, 'penalty': 'l2', 'random_state': 42, 'solver': 'newton-cg', 'tol': 0.0001, 'verbose': 0}\n",
      "Accuracy:   0.3300\n",
      "\n",
      "-------------------------------------------------------------------\n"
     ]
    },
    {
     "name": "stderr",
     "output_type": "stream",
     "text": []
    },
    {
     "name": "stdout",
     "output_type": "stream",
     "text": [
      "Best params: \n",
      "{'C': 1, 'max_iter': 2000, 'n_jobs': 6, 'penalty': 'l2', 'random_state': 42, 'solver': 'newton-cg', 'tol': 0.0001, 'verbose': 0}\n",
      "Accuracy:   0.2200\n",
      "\n",
      "-------------------------------------------------------------------\n"
     ]
    },
    {
     "name": "stderr",
     "output_type": "stream",
     "text": []
    },
    {
     "name": "stdout",
     "output_type": "stream",
     "text": [
      "Best params: \n",
      "{'C': 0.5, 'max_iter': 2000, 'n_jobs': 6, 'penalty': 'l2', 'random_state': 42, 'solver': 'newton-cg', 'tol': 0.0001, 'verbose': 0}\n",
      "Accuracy:   0.2400\n",
      "\n",
      "-------------------------------------------------------------------\n",
      "Best params: \n",
      "{'C': 0.1, 'max_iter': 2000, 'n_jobs': 6, 'penalty': 'l2', 'random_state': 42, 'solver': 'newton-cg', 'tol': 0.0001, 'verbose': 0}\n",
      "Accuracy:   0.1800\n",
      "\n",
      "-------------------------------------------------------------------\n"
     ]
    },
    {
     "name": "stderr",
     "output_type": "stream",
     "text": []
    },
    {
     "name": "stdout",
     "output_type": "stream",
     "text": [
      "Best params: \n",
      "{'C': 0.5, 'max_iter': 2000, 'n_jobs': 6, 'penalty': 'l2', 'random_state': 42, 'solver': 'newton-cg', 'tol': 0.0001, 'verbose': 0}\n",
      "Accuracy:   0.4100\n",
      "\n",
      "-------------------------------------------------------------------\n",
      "Best params: \n",
      "{'C': 0.1, 'max_iter': 2000, 'n_jobs': 6, 'penalty': 'l2', 'random_state': 42, 'solver': 'newton-cg', 'tol': 0.0001, 'verbose': 0}\n",
      "Accuracy:   0.1400\n",
      "\n",
      "-------------------------------------------------------------------\n"
     ]
    },
    {
     "name": "stderr",
     "output_type": "stream",
     "text": []
    },
    {
     "name": "stdout",
     "output_type": "stream",
     "text": [
      "Best params: \n",
      "{'C': 0.1, 'max_iter': 2000, 'n_jobs': 6, 'penalty': 'l2', 'random_state': 42, 'solver': 'newton-cg', 'tol': 0.0001, 'verbose': 0}\n",
      "Accuracy:   0.2800\n",
      "\n",
      "-------------------------------------------------------------------\n",
      "Best params: \n",
      "{'C': 0.1, 'max_iter': 2000, 'n_jobs': 6, 'penalty': 'l2', 'random_state': 42, 'solver': 'newton-cg', 'tol': 0.0001, 'verbose': 0}\n",
      "Accuracy:   0.2000\n",
      "\n",
      "-------------------------------------------------------------------\n"
     ]
    },
    {
     "name": "stderr",
     "output_type": "stream",
     "text": [
      "100%|██████████| 4/4 [00:12<00:00,  3.05s/it]\n",
      " 90%|█████████ | 18/20 [02:06<00:20, 10.12s/it]"
     ]
    },
    {
     "name": "stdout",
     "output_type": "stream",
     "text": [
      "Best params: \n",
      "{'C': 0.1, 'max_iter': 2000, 'n_jobs': 6, 'penalty': 'l2', 'random_state': 42, 'solver': 'newton-cg', 'tol': 0.0001, 'verbose': 0}\n",
      "Accuracy:   0.2900\n",
      "\n",
      "-------------------------------------------------------------------\n"
     ]
    },
    {
     "name": "stderr",
     "output_type": "stream",
     "text": []
    },
    {
     "name": "stdout",
     "output_type": "stream",
     "text": [
      "Best params: \n",
      "{'C': 0.1, 'max_iter': 2000, 'n_jobs': 6, 'penalty': 'l2', 'random_state': 42, 'solver': 'newton-cg', 'tol': 0.0001, 'verbose': 0}\n",
      "Accuracy:   0.2500\n",
      "\n",
      "-------------------------------------------------------------------\n"
     ]
    },
    {
     "name": "stderr",
     "output_type": "stream",
     "text": []
    },
    {
     "name": "stdout",
     "output_type": "stream",
     "text": [
      "Best params: \n",
      "{'C': 0.1, 'max_iter': 2000, 'n_jobs': 6, 'penalty': 'l2', 'random_state': 42, 'solver': 'newton-cg', 'tol': 0.0001, 'verbose': 0}\n",
      "Accuracy:   0.2700\n",
      "\n",
      "-------------------------------------------------------------------\n",
      "Best params: \n",
      "{'C': 0.1, 'max_iter': 2000, 'n_jobs': 6, 'penalty': 'l2', 'random_state': 42, 'solver': 'newton-cg', 'tol': 0.0001, 'verbose': 0}\n",
      "Accuracy:   0.1700\n",
      "\n",
      "-------------------------------------------------------------------\n"
     ]
    },
    {
     "name": "stderr",
     "output_type": "stream",
     "text": []
    },
    {
     "name": "stdout",
     "output_type": "stream",
     "text": [
      "Best params: \n",
      "{'C': 10, 'max_iter': 2000, 'n_jobs': 6, 'penalty': 'l2', 'random_state': 42, 'solver': 'newton-cg', 'tol': 0.0001, 'verbose': 0}\n",
      "Accuracy:   0.3200\n",
      "\n",
      "-------------------------------------------------------------------\n",
      "Best params: \n",
      "{'C': 100, 'max_iter': 2000, 'n_jobs': 6, 'penalty': 'l2', 'random_state': 42, 'solver': 'newton-cg', 'tol': 0.0001, 'verbose': 0}\n",
      "Accuracy:   0.2000\n",
      "\n",
      "-------------------------------------------------------------------\n"
     ]
    },
    {
     "name": "stderr",
     "output_type": "stream",
     "text": []
    },
    {
     "name": "stdout",
     "output_type": "stream",
     "text": [
      "Best params: \n",
      "{'C': 1, 'max_iter': 2000, 'n_jobs': 6, 'penalty': 'l2', 'random_state': 42, 'solver': 'newton-cg', 'tol': 0.0001, 'verbose': 0}\n",
      "Accuracy:   0.2600\n",
      "\n",
      "-------------------------------------------------------------------\n",
      "Best params: \n",
      "{'C': 0.1, 'max_iter': 2000, 'n_jobs': 6, 'penalty': 'l2', 'random_state': 42, 'solver': 'newton-cg', 'tol': 0.0001, 'verbose': 0}\n",
      "Accuracy:   0.2200\n",
      "\n",
      "-------------------------------------------------------------------\n"
     ]
    },
    {
     "name": "stderr",
     "output_type": "stream",
     "text": [
      "100%|██████████| 4/4 [00:12<00:00,  3.09s/it]\n",
      " 95%|█████████▌| 19/20 [02:18<00:10, 10.80s/it]"
     ]
    },
    {
     "name": "stdout",
     "output_type": "stream",
     "text": [
      "Best params: \n",
      "{'C': 0.5, 'max_iter': 2000, 'n_jobs': 6, 'penalty': 'l2', 'random_state': 42, 'solver': 'newton-cg', 'tol': 0.0001, 'verbose': 0}\n",
      "Accuracy:   0.3900\n",
      "\n",
      "-------------------------------------------------------------------\n"
     ]
    },
    {
     "name": "stderr",
     "output_type": "stream",
     "text": []
    },
    {
     "name": "stdout",
     "output_type": "stream",
     "text": [
      "Best params: \n",
      "{'C': 0.1, 'max_iter': 2000, 'n_jobs': 6, 'penalty': 'l2', 'random_state': 42, 'solver': 'newton-cg', 'tol': 0.0001, 'verbose': 0}\n",
      "Accuracy:   0.1900\n",
      "\n",
      "-------------------------------------------------------------------\n"
     ]
    },
    {
     "name": "stderr",
     "output_type": "stream",
     "text": []
    },
    {
     "name": "stdout",
     "output_type": "stream",
     "text": [
      "Best params: \n",
      "{'C': 0.1, 'max_iter': 2000, 'n_jobs': 6, 'penalty': 'l2', 'random_state': 42, 'solver': 'newton-cg', 'tol': 0.0001, 'verbose': 0}\n",
      "Accuracy:   0.2700\n",
      "\n",
      "-------------------------------------------------------------------\n",
      "Best params: \n",
      "{'C': 10, 'max_iter': 2000, 'n_jobs': 6, 'penalty': 'l2', 'random_state': 42, 'solver': 'newton-cg', 'tol': 0.0001, 'verbose': 0}\n",
      "Accuracy:   0.2300\n",
      "\n",
      "-------------------------------------------------------------------\n"
     ]
    },
    {
     "name": "stderr",
     "output_type": "stream",
     "text": []
    },
    {
     "name": "stdout",
     "output_type": "stream",
     "text": [
      "Best params: \n",
      "{'C': 0.5, 'max_iter': 2000, 'n_jobs': 6, 'penalty': 'l2', 'random_state': 42, 'solver': 'newton-cg', 'tol': 0.0001, 'verbose': 0}\n",
      "Accuracy:   0.3000\n",
      "\n",
      "-------------------------------------------------------------------\n",
      "Best params: \n",
      "{'C': 0.1, 'max_iter': 2000, 'n_jobs': 6, 'penalty': 'l2', 'random_state': 42, 'solver': 'newton-cg', 'tol': 0.0001, 'verbose': 0}\n",
      "Accuracy:   0.2400\n",
      "\n",
      "-------------------------------------------------------------------\n"
     ]
    },
    {
     "name": "stderr",
     "output_type": "stream",
     "text": []
    },
    {
     "name": "stdout",
     "output_type": "stream",
     "text": [
      "Best params: \n",
      "{'C': 0.1, 'max_iter': 2000, 'n_jobs': 6, 'penalty': 'l2', 'random_state': 42, 'solver': 'newton-cg', 'tol': 0.0001, 'verbose': 0}\n",
      "Accuracy:   0.2500\n",
      "\n",
      "-------------------------------------------------------------------\n",
      "Best params: \n",
      "{'C': 100, 'max_iter': 2000, 'n_jobs': 6, 'penalty': 'l2', 'random_state': 42, 'solver': 'newton-cg', 'tol': 0.0001, 'verbose': 0}\n",
      "Accuracy:   0.1600\n",
      "\n",
      "-------------------------------------------------------------------\n"
     ]
    },
    {
     "name": "stderr",
     "output_type": "stream",
     "text": [
      "100%|██████████| 4/4 [00:13<00:00,  3.32s/it]\n",
      "100%|██████████| 20/20 [02:32<00:00,  7.60s/it]"
     ]
    },
    {
     "name": "stdout",
     "output_type": "stream",
     "text": [
      "Best params: \n",
      "{'C': 10, 'max_iter': 2000, 'n_jobs': 6, 'penalty': 'l2', 'random_state': 42, 'solver': 'newton-cg', 'tol': 0.0001, 'verbose': 0}\n",
      "Accuracy:   0.2500\n",
      "\n",
      "-------------------------------------------------------------------\n"
     ]
    },
    {
     "name": "stderr",
     "output_type": "stream",
     "text": [
      "\n"
     ]
    }
   ],
   "source": [
    "from sklearn.exceptions import FitFailedWarning\n",
    "import warnings\n",
    "warnings.simplefilter(\"ignore\")\n",
    "def simulation(core_feature_proportion, noise_level):\n",
    "    simu_result_df = pd.DataFrame(\n",
    "        data = None, \n",
    "        columns = ['relevant_features', 'irrelevant_features', 'mean_var', 'mean_directions_kept']\n",
    "    )\n",
    "    for i in tqdm(np.logspace(base = 10.0, start = 1, stop = 3, num = 20)):\n",
    "        total_features = int(i)\n",
    "        core_dirs = int(core_feature_proportion * total_features)\n",
    "        redundant_dirs = total_features - core_dirs\n",
    "        _, _, mean_var_directions, mean_directions_kept = train_loop(core_dirs, redundant_dirs, noise_level = noise_level)\n",
    "        simu_result_df = simu_result_df.append(pd.DataFrame([[core_dirs, redundant_dirs, mean_var_directions, mean_directions_kept]], columns = simu_result_df.columns))\n",
    "    return simu_result_df\n",
    "\n",
    "simu_result_df = simulation(core_feature_proportion = 0.1, noise_level = 0.1)"
   ]
  },
  {
   "cell_type": "code",
   "execution_count": 76,
   "metadata": {},
   "outputs": [],
   "source": [
    "simu_result_df.to_csv(\n",
    "    '../output/var_simu_df_0.1_0.1.csv', \n",
    "    header = True\n",
    ")"
   ]
  },
  {
   "cell_type": "code",
   "execution_count": 80,
   "metadata": {},
   "outputs": [
    {
     "data": {
      "text/html": [
       "<div>\n",
       "<style scoped>\n",
       "    .dataframe tbody tr th:only-of-type {\n",
       "        vertical-align: middle;\n",
       "    }\n",
       "\n",
       "    .dataframe tbody tr th {\n",
       "        vertical-align: top;\n",
       "    }\n",
       "\n",
       "    .dataframe thead th {\n",
       "        text-align: right;\n",
       "    }\n",
       "</style>\n",
       "<table border=\"1\" class=\"dataframe\">\n",
       "  <thead>\n",
       "    <tr style=\"text-align: right;\">\n",
       "      <th></th>\n",
       "      <th>relevant_features</th>\n",
       "      <th>irrelevant_features</th>\n",
       "      <th>mean_var</th>\n",
       "      <th>mean_directions_kept</th>\n",
       "      <th>total_features</th>\n",
       "    </tr>\n",
       "    <tr>\n",
       "      <th>relevant_features</th>\n",
       "      <th></th>\n",
       "      <th></th>\n",
       "      <th></th>\n",
       "      <th></th>\n",
       "      <th></th>\n",
       "    </tr>\n",
       "  </thead>\n",
       "  <tbody>\n",
       "    <tr>\n",
       "      <th>1</th>\n",
       "      <td>1</td>\n",
       "      <td>9</td>\n",
       "      <td>0.086443</td>\n",
       "      <td>10.0</td>\n",
       "      <td>10</td>\n",
       "    </tr>\n",
       "    <tr>\n",
       "      <th>1</th>\n",
       "      <td>1</td>\n",
       "      <td>11</td>\n",
       "      <td>0.076705</td>\n",
       "      <td>12.0</td>\n",
       "      <td>12</td>\n",
       "    </tr>\n",
       "    <tr>\n",
       "      <th>1</th>\n",
       "      <td>1</td>\n",
       "      <td>15</td>\n",
       "      <td>0.059238</td>\n",
       "      <td>16.0</td>\n",
       "      <td>16</td>\n",
       "    </tr>\n",
       "    <tr>\n",
       "      <th>2</th>\n",
       "      <td>2</td>\n",
       "      <td>18</td>\n",
       "      <td>0.046888</td>\n",
       "      <td>20.0</td>\n",
       "      <td>20</td>\n",
       "    </tr>\n",
       "    <tr>\n",
       "      <th>2</th>\n",
       "      <td>2</td>\n",
       "      <td>24</td>\n",
       "      <td>0.036242</td>\n",
       "      <td>26.0</td>\n",
       "      <td>26</td>\n",
       "    </tr>\n",
       "    <tr>\n",
       "      <th>3</th>\n",
       "      <td>3</td>\n",
       "      <td>30</td>\n",
       "      <td>0.029187</td>\n",
       "      <td>33.0</td>\n",
       "      <td>33</td>\n",
       "    </tr>\n",
       "    <tr>\n",
       "      <th>4</th>\n",
       "      <td>4</td>\n",
       "      <td>38</td>\n",
       "      <td>0.023032</td>\n",
       "      <td>42.0</td>\n",
       "      <td>42</td>\n",
       "    </tr>\n",
       "    <tr>\n",
       "      <th>5</th>\n",
       "      <td>5</td>\n",
       "      <td>49</td>\n",
       "      <td>0.018093</td>\n",
       "      <td>54.0</td>\n",
       "      <td>54</td>\n",
       "    </tr>\n",
       "    <tr>\n",
       "      <th>6</th>\n",
       "      <td>6</td>\n",
       "      <td>63</td>\n",
       "      <td>0.014127</td>\n",
       "      <td>69.0</td>\n",
       "      <td>69</td>\n",
       "    </tr>\n",
       "    <tr>\n",
       "      <th>8</th>\n",
       "      <td>8</td>\n",
       "      <td>80</td>\n",
       "      <td>0.011248</td>\n",
       "      <td>88.0</td>\n",
       "      <td>88</td>\n",
       "    </tr>\n",
       "    <tr>\n",
       "      <th>11</th>\n",
       "      <td>11</td>\n",
       "      <td>101</td>\n",
       "      <td>0.008890</td>\n",
       "      <td>112.0</td>\n",
       "      <td>112</td>\n",
       "    </tr>\n",
       "    <tr>\n",
       "      <th>14</th>\n",
       "      <td>14</td>\n",
       "      <td>129</td>\n",
       "      <td>0.006981</td>\n",
       "      <td>143.0</td>\n",
       "      <td>143</td>\n",
       "    </tr>\n",
       "    <tr>\n",
       "      <th>18</th>\n",
       "      <td>18</td>\n",
       "      <td>165</td>\n",
       "      <td>0.005429</td>\n",
       "      <td>183.0</td>\n",
       "      <td>183</td>\n",
       "    </tr>\n",
       "    <tr>\n",
       "      <th>23</th>\n",
       "      <td>23</td>\n",
       "      <td>210</td>\n",
       "      <td>0.004279</td>\n",
       "      <td>233.0</td>\n",
       "      <td>233</td>\n",
       "    </tr>\n",
       "    <tr>\n",
       "      <th>29</th>\n",
       "      <td>29</td>\n",
       "      <td>268</td>\n",
       "      <td>0.003356</td>\n",
       "      <td>297.0</td>\n",
       "      <td>297</td>\n",
       "    </tr>\n",
       "    <tr>\n",
       "      <th>37</th>\n",
       "      <td>37</td>\n",
       "      <td>342</td>\n",
       "      <td>0.002632</td>\n",
       "      <td>379.0</td>\n",
       "      <td>379</td>\n",
       "    </tr>\n",
       "    <tr>\n",
       "      <th>48</th>\n",
       "      <td>48</td>\n",
       "      <td>435</td>\n",
       "      <td>0.002495</td>\n",
       "      <td>400.0</td>\n",
       "      <td>483</td>\n",
       "    </tr>\n",
       "    <tr>\n",
       "      <th>61</th>\n",
       "      <td>61</td>\n",
       "      <td>554</td>\n",
       "      <td>0.002492</td>\n",
       "      <td>400.0</td>\n",
       "      <td>615</td>\n",
       "    </tr>\n",
       "    <tr>\n",
       "      <th>78</th>\n",
       "      <td>78</td>\n",
       "      <td>706</td>\n",
       "      <td>0.002494</td>\n",
       "      <td>400.0</td>\n",
       "      <td>784</td>\n",
       "    </tr>\n",
       "    <tr>\n",
       "      <th>100</th>\n",
       "      <td>100</td>\n",
       "      <td>900</td>\n",
       "      <td>0.002496</td>\n",
       "      <td>400.0</td>\n",
       "      <td>1000</td>\n",
       "    </tr>\n",
       "  </tbody>\n",
       "</table>\n",
       "</div>"
      ],
      "text/plain": [
       "                  relevant_features irrelevant_features  mean_var  \\\n",
       "relevant_features                                                   \n",
       "1                                 1                   9  0.086443   \n",
       "1                                 1                  11  0.076705   \n",
       "1                                 1                  15  0.059238   \n",
       "2                                 2                  18  0.046888   \n",
       "2                                 2                  24  0.036242   \n",
       "3                                 3                  30  0.029187   \n",
       "4                                 4                  38  0.023032   \n",
       "5                                 5                  49  0.018093   \n",
       "6                                 6                  63  0.014127   \n",
       "8                                 8                  80  0.011248   \n",
       "11                               11                 101  0.008890   \n",
       "14                               14                 129  0.006981   \n",
       "18                               18                 165  0.005429   \n",
       "23                               23                 210  0.004279   \n",
       "29                               29                 268  0.003356   \n",
       "37                               37                 342  0.002632   \n",
       "48                               48                 435  0.002495   \n",
       "61                               61                 554  0.002492   \n",
       "78                               78                 706  0.002494   \n",
       "100                             100                 900  0.002496   \n",
       "\n",
       "                   mean_directions_kept total_features  \n",
       "relevant_features                                       \n",
       "1                                  10.0             10  \n",
       "1                                  12.0             12  \n",
       "1                                  16.0             16  \n",
       "2                                  20.0             20  \n",
       "2                                  26.0             26  \n",
       "3                                  33.0             33  \n",
       "4                                  42.0             42  \n",
       "5                                  54.0             54  \n",
       "6                                  69.0             69  \n",
       "8                                  88.0             88  \n",
       "11                                112.0            112  \n",
       "14                                143.0            143  \n",
       "18                                183.0            183  \n",
       "23                                233.0            233  \n",
       "29                                297.0            297  \n",
       "37                                379.0            379  \n",
       "48                                400.0            483  \n",
       "61                                400.0            615  \n",
       "78                                400.0            784  \n",
       "100                               400.0           1000  "
      ]
     },
     "execution_count": 80,
     "metadata": {},
     "output_type": "execute_result"
    }
   ],
   "source": [
    "simu_result_df.index = simu_result_df['relevant_features']\n",
    "simu_result_df"
   ]
  },
  {
   "cell_type": "code",
   "execution_count": null,
   "metadata": {},
   "outputs": [],
   "source": []
  },
  {
   "cell_type": "code",
   "execution_count": 79,
   "metadata": {},
   "outputs": [
    {
     "data": {
      "image/png": "[encoded data removed]",
      "text/plain": [
       "<Figure size 2560x1280 with 1 Axes>"
      ]
     },
     "metadata": {},
     "output_type": "display_data"
    }
   ],
   "source": [
    "def plot_learning_curve(n_directions_list, validation_score_list, metric_name, x_name, title, x_scale = \"linear\", save = False, filepath = \"\", filename = \"\"):\n",
    "    '''\n",
    "    Input: x-axis (e.g. PCA directions kept / n_estimators / max_depth)\n",
    "           metric_name for y-axis (e.g. misclassification error / crossentropy error / accuracy / f1 score)\n",
    "           title for this axis\n",
    "           training + validation score in list\n",
    "           default in linear scale\n",
    "           default no saving files, if save is True, then have to specify filename and file path\n",
    "    Output: inline display of the learning curve\n",
    "    '''\n",
    "    import pandas as pd\n",
    "    import numpy as np  \n",
    "    import matplotlib\n",
    "    from matplotlib import pyplot as plt\n",
    "    from matplotlib import cm\n",
    "    plt.style.use('ggplot')\n",
    "    plt.rcParams[\"font.weight\"] = \"bold\"\n",
    "    plt.rcParams[\"axes.labelweight\"] = \"bold\"\n",
    "    plt.rcParams[\"axes.titleweight\"] = \"bold\"\n",
    "    fig,ax = plt.subplots(1, 1, figsize = (8, 4), dpi = 320)\n",
    "    ax.plot(n_directions_list, validation_score_list, 'o-', linewidth = 2)\n",
    "    ax.set_xscale(x_scale)\n",
    "    ax.set_title('Learning Curve: ' + title)\n",
    "    ax.set_xlabel(x_name)\n",
    "    ax.set_ylabel(metric_name)\n",
    "    plt.show()\n",
    "    if save:\n",
    "        fig.savefig(filepath + filename + \".png\", format = \"png\")\n",
    "    pass\n",
    "\n",
    "simu_result_df['total_features'] = simu_result_df['relevant_features'] + simu_result_df['irrelevant_features']\n",
    "\n",
    "plot_learning_curve(\n",
    "    n_directions_list = simu_result_df['total_features'],\n",
    "    validation_score_list = simu_result_df['mean_var'], \n",
    "    metric_name = 'Mean Variance in weights', \n",
    "    x_name = 'Total Number of Features', \n",
    "    title = 'Core Feature Proportion: 0.1 Noise Level: 0.1', \n",
    "    x_scale = 'log', \n",
    "    save = True, \n",
    "    filepath = '../fig/', \n",
    "    filename = 'learning_curve_var_dir_p_0.1_n_0.1'\n",
    ")"
   ]
  },
  {
   "cell_type": "code",
   "execution_count": null,
   "metadata": {},
   "outputs": [],
   "source": []
  }
 ],
 "metadata": {
  "kernelspec": {
   "display_name": "Python 3.9.13 ('env_torch')",
   "language": "python",
   "name": "python3"
  },
  "language_info": {
   "codemirror_mode": {
    "name": "ipython",
    "version": 3
   },
   "file_extension": ".py",
   "mimetype": "text/x-python",
   "name": "python",
   "nbconvert_exporter": "python",
   "pygments_lexer": "ipython3",
   "version": "3.9.13"
  },
  "orig_nbformat": 4,
  "vscode": {
   "interpreter": {
    "hash": "cf4b1ea9e44270800601995b24955b9e2e1146cee5677c8b3eb4516f39ae2322"
   }
  }
 },
 "nbformat": 4,
 "nbformat_minor": 2
}
